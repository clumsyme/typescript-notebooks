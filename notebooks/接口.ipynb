{
 "cells": [
  {
   "cell_type": "markdown",
   "metadata": {},
   "source": [
    "# 接口\n",
    "\n",
    "TypeScript 用值的**形状（Shape）**来进行类型检查，接口用来描述这些**类型**。"
   ]
  },
  {
   "cell_type": "code",
   "execution_count": 1,
   "metadata": {},
   "outputs": [
    {
     "name": "stdout",
     "output_type": "stream",
     "text": [
      "Size 10 Object\n"
     ]
    },
    {
     "data": {
      "text/plain": [
       "undefined"
      ]
     },
     "execution_count": 1,
     "metadata": {},
     "output_type": "execute_result"
    }
   ],
   "source": [
    "interface LabeledValue {\n",
    "    label: string\n",
    "}\n",
    "\n",
    "function printLabel(labeledObj: LabeledValue) {\n",
    "    console.log(labeledObj.label)\n",
    "}\n",
    "\n",
    "let myObj = {label: 'Size 10 Object', size: 10}\n",
    "\n",
    "printLabel(myObj)"
   ]
  },
  {
   "cell_type": "markdown",
   "metadata": {},
   "source": [
    "*注意 `myObj` 含有不在 `LabeledValue` 接口定义内的额外属性*"
   ]
  },
  {
   "cell_type": "markdown",
   "metadata": {},
   "source": [
    "## 可选属性"
   ]
  },
  {
   "cell_type": "code",
   "execution_count": 2,
   "metadata": {},
   "outputs": [
    {
     "name": "stdout",
     "output_type": "stream",
     "text": [
      "{ color: 'white', area: 225 }\n"
     ]
    },
    {
     "data": {
      "text/plain": [
       "undefined"
      ]
     },
     "execution_count": 2,
     "metadata": {},
     "output_type": "execute_result"
    }
   ],
   "source": [
    "interface SquareConfig {\n",
    "    color?: string\n",
    "    width: number\n",
    "}\n",
    "\n",
    "interface Square {\n",
    "    color?: string\n",
    "    area: number\n",
    "}\n",
    "\n",
    "function createSquare(config: SquareConfig): Square {\n",
    "    let newSquare: Square = {\n",
    "        color: 'white',\n",
    "        area: config.width ** 2,\n",
    "    }\n",
    "    if (config.color) {\n",
    "        newSquare.color = config.color\n",
    "    }\n",
    "    return newSquare\n",
    "}\n",
    "\n",
    "let square: Square = createSquare({width: 15})\n",
    "console.log(square)"
   ]
  },
  {
   "cell_type": "markdown",
   "metadata": {},
   "source": [
    "## 只读属性"
   ]
  },
  {
   "cell_type": "code",
   "execution_count": 3,
   "metadata": {},
   "outputs": [
    {
     "data": {
      "text/plain": [
       "undefined"
      ]
     },
     "execution_count": 3,
     "metadata": {},
     "output_type": "execute_result"
    }
   ],
   "source": [
    "interface Point {\n",
    "    readonly x: number\n",
    "    readonly y: number\n",
    "}\n",
    "\n",
    "let point: Point = {\n",
    "    x: 10,\n",
    "    y: 10,\n",
    "}"
   ]
  },
  {
   "cell_type": "code",
   "execution_count": 4,
   "metadata": {
    "scrolled": true
   },
   "outputs": [
    {
     "ename": "Error",
     "evalue": "Line 1, Character 7\npoint.x = 20\n______^\nTS2540: Cannot assign to 'x' because it is a read-only property.",
     "output_type": "error",
     "traceback": [
      "Error: Line 1, Character 7",
      "point.x = 20",
      "______^",
      "TS2540: Cannot assign to 'x' because it is a read-only property.",
      "    at execTranspile (/Users/yan/.npm-global-packages/lib/node_modules/itypescript/lib/kernel.js:203:27)",
      "    at Session.transpiler [as transpile] (/Users/yan/.npm-global-packages/lib/node_modules/itypescript/lib/kernel.js:263:37)",
      "    at Session._runNow (/Users/yan/.npm-global-packages/lib/node_modules/itypescript/node_modules/nel/lib/nel.js:796:39)",
      "    at Session._runNext (/Users/yan/.npm-global-packages/lib/node_modules/itypescript/node_modules/nel/lib/nel.js:837:14)",
      "    at Session._onMessage (/Users/yan/.npm-global-packages/lib/node_modules/itypescript/node_modules/nel/lib/nel.js:753:14)",
      "    at ChildProcess.emit (events.js:182:13)",
      "    at emit (internal/child_process.js:812:12)",
      "    at process._tickCallback (internal/process/next_tick.js:63:19)"
     ]
    }
   ],
   "source": [
    "point.x = 20"
   ]
  },
  {
   "cell_type": "markdown",
   "metadata": {},
   "source": [
    "#### `ReadonlyArray<T>`\n",
    "\n",
    "`ReadonlyArray<T>` 和 `Array<T>` 一样，但是没有任何修改方法。数组被创建后将不能被修改。"
   ]
  },
  {
   "cell_type": "code",
   "execution_count": 5,
   "metadata": {},
   "outputs": [
    {
     "data": {
      "text/plain": [
       "undefined"
      ]
     },
     "execution_count": 5,
     "metadata": {},
     "output_type": "execute_result"
    }
   ],
   "source": [
    "let readonlyArray: ReadonlyArray<number> = [1, 2, 3, 4]"
   ]
  },
  {
   "cell_type": "code",
   "execution_count": 6,
   "metadata": {},
   "outputs": [
    {
     "ename": "Error",
     "evalue": "Line 1, Character 1\nreadonlyArray[0] = 9\n^\nTS2542: Index signature in type 'readonly number[]' only permits reading.",
     "output_type": "error",
     "traceback": [
      "Error: Line 1, Character 1",
      "readonlyArray[0] = 9",
      "^",
      "TS2542: Index signature in type 'readonly number[]' only permits reading.",
      "    at execTranspile (/Users/yan/.npm-global-packages/lib/node_modules/itypescript/lib/kernel.js:203:27)",
      "    at Session.transpiler [as transpile] (/Users/yan/.npm-global-packages/lib/node_modules/itypescript/lib/kernel.js:263:37)",
      "    at Session._runNow (/Users/yan/.npm-global-packages/lib/node_modules/itypescript/node_modules/nel/lib/nel.js:796:39)",
      "    at Session._runNext (/Users/yan/.npm-global-packages/lib/node_modules/itypescript/node_modules/nel/lib/nel.js:837:14)",
      "    at Session._onMessage (/Users/yan/.npm-global-packages/lib/node_modules/itypescript/node_modules/nel/lib/nel.js:753:14)",
      "    at ChildProcess.emit (events.js:182:13)",
      "    at emit (internal/child_process.js:812:12)",
      "    at process._tickCallback (internal/process/next_tick.js:63:19)"
     ]
    }
   ],
   "source": [
    "readonlyArray[0] = 9"
   ]
  },
  {
   "cell_type": "markdown",
   "metadata": {},
   "source": [
    "不能将只读数组再转化为普通数组："
   ]
  },
  {
   "cell_type": "code",
   "execution_count": 7,
   "metadata": {},
   "outputs": [
    {
     "ename": "Error",
     "evalue": "Line 1, Character 5\nlet array: number[] = readonlyArray\n____^\nTS2740: Type 'readonly number[]' is missing the following properties from type 'number[]': pop, push, reverse, shift, and 6 more.",
     "output_type": "error",
     "traceback": [
      "Error: Line 1, Character 5",
      "let array: number[] = readonlyArray",
      "____^",
      "TS2740: Type 'readonly number[]' is missing the following properties from type 'number[]': pop, push, reverse, shift, and 6 more.",
      "    at execTranspile (/Users/yan/.npm-global-packages/lib/node_modules/itypescript/lib/kernel.js:203:27)",
      "    at Session.transpiler [as transpile] (/Users/yan/.npm-global-packages/lib/node_modules/itypescript/lib/kernel.js:263:37)",
      "    at Session._runNow (/Users/yan/.npm-global-packages/lib/node_modules/itypescript/node_modules/nel/lib/nel.js:796:39)",
      "    at Session._runNext (/Users/yan/.npm-global-packages/lib/node_modules/itypescript/node_modules/nel/lib/nel.js:837:14)",
      "    at Session._onMessage (/Users/yan/.npm-global-packages/lib/node_modules/itypescript/node_modules/nel/lib/nel.js:753:14)",
      "    at Session._runNow (/Users/yan/.npm-global-packages/lib/node_modules/itypescript/node_modules/nel/lib/nel.js:800:18)",
      "    at Session._runNext (/Users/yan/.npm-global-packages/lib/node_modules/itypescript/node_modules/nel/lib/nel.js:837:14)",
      "    at Session._onMessage (/Users/yan/.npm-global-packages/lib/node_modules/itypescript/node_modules/nel/lib/nel.js:753:14)",
      "    at ChildProcess.emit (events.js:182:13)",
      "    at emit (internal/child_process.js:812:12)"
     ]
    }
   ],
   "source": [
    "let array: number[] = readonlyArray"
   ]
  },
  {
   "cell_type": "markdown",
   "metadata": {},
   "source": [
    "除非进行强制类型断言"
   ]
  },
  {
   "cell_type": "code",
   "execution_count": 8,
   "metadata": {},
   "outputs": [
    {
     "name": "stdout",
     "output_type": "stream",
     "text": [
      "[ 1, 2, 3, 4 ]\n"
     ]
    },
    {
     "data": {
      "text/plain": [
       "undefined"
      ]
     },
     "execution_count": 8,
     "metadata": {},
     "output_type": "execute_result"
    }
   ],
   "source": [
    "let array: number[] = readonlyArray as number[]\n",
    "console.log(array)"
   ]
  },
  {
   "cell_type": "markdown",
   "metadata": {},
   "source": [
    "## 额外检查\n",
    "\n",
    "注意我们前边的第一个接口例子，我们的 `myObj` 有接口定义的额外属性，但是代码正常运行。但是如果我们将**对象字面量**作为参数传递给函数，函数将会报错："
   ]
  },
  {
   "cell_type": "code",
   "execution_count": 9,
   "metadata": {},
   "outputs": [
    {
     "ename": "Error",
     "evalue": "Line 3, Character 5\n    size: 10,\n____^\nTS2345: Argument of type '{ label: string; size: number; }' is not assignable to parameter of type 'LabeledValue'.\n  Object literal may only specify known properties, and 'size' does not exist in type 'LabeledValue'.",
     "output_type": "error",
     "traceback": [
      "Error: Line 3, Character 5",
      "    size: 10,",
      "____^",
      "TS2345: Argument of type '{ label: string; size: number; }' is not assignable to parameter of type 'LabeledValue'.",
      "  Object literal may only specify known properties, and 'size' does not exist in type 'LabeledValue'.",
      "    at execTranspile (/Users/yan/.npm-global-packages/lib/node_modules/itypescript/lib/kernel.js:203:27)",
      "    at Session.transpiler [as transpile] (/Users/yan/.npm-global-packages/lib/node_modules/itypescript/lib/kernel.js:263:37)",
      "    at Session._runNow (/Users/yan/.npm-global-packages/lib/node_modules/itypescript/node_modules/nel/lib/nel.js:796:39)",
      "    at Session._runNext (/Users/yan/.npm-global-packages/lib/node_modules/itypescript/node_modules/nel/lib/nel.js:837:14)",
      "    at Session._onMessage (/Users/yan/.npm-global-packages/lib/node_modules/itypescript/node_modules/nel/lib/nel.js:753:14)",
      "    at ChildProcess.emit (events.js:182:13)",
      "    at emit (internal/child_process.js:812:12)",
      "    at process._tickCallback (internal/process/next_tick.js:63:19)"
     ]
    }
   ],
   "source": [
    "printLabel({\n",
    "    label: 'Size 10 Object', \n",
    "    size: 10,\n",
    "})"
   ]
  },
  {
   "cell_type": "markdown",
   "metadata": {},
   "source": [
    "TypeScript 抱怨说 `LabeledValue` 不包含 `size` 属性。**如果对象字面量包含任何目标类型不包含的属性，使用该对象字面量进行对象赋值、传参都会报错。**\n",
    "\n",
    "解决这个问题的方法很简单，除了上边的将对象字面量赋值给另一个变量，还可以：\n",
    "\n",
    "1. 使用类型断言："
   ]
  },
  {
   "cell_type": "code",
   "execution_count": 10,
   "metadata": {},
   "outputs": [
    {
     "name": "stdout",
     "output_type": "stream",
     "text": [
      "{ color: 'black', area: 100 }\n"
     ]
    },
    {
     "data": {
      "text/plain": [
       "undefined"
      ]
     },
     "execution_count": 10,
     "metadata": {},
     "output_type": "execute_result"
    }
   ],
   "source": [
    "let square2 = createSquare({\n",
    "    color: 'black', \n",
    "    width: 10, \n",
    "    radius: 5,\n",
    "} as SquareConfig)\n",
    "\n",
    "console.log(square2)"
   ]
  },
  {
   "cell_type": "markdown",
   "metadata": {},
   "source": [
    "2. 但是如果确定该对象会有更多额外的属性，更好的方法是使用**字符串索引签名**："
   ]
  },
  {
   "cell_type": "code",
   "execution_count": 11,
   "metadata": {},
   "outputs": [
    {
     "name": "stdout",
     "output_type": "stream",
     "text": [
      "{ color: 'black', area: 100 }\n"
     ]
    },
    {
     "data": {
      "text/plain": [
       "undefined"
      ]
     },
     "execution_count": 11,
     "metadata": {},
     "output_type": "execute_result"
    }
   ],
   "source": [
    "interface SquareConfig {\n",
    "    color?: string;\n",
    "    width: number;\n",
    "    [propName: string]: any;\n",
    "}\n",
    "let square3 = createSquare({\n",
    "    color: 'black', \n",
    "    width: 10, \n",
    "    radius: 5,\n",
    "})\n",
    "\n",
    "console.log(square3)"
   ]
  },
  {
   "cell_type": "markdown",
   "metadata": {},
   "source": [
    "如非必要，尽量不要绕过这些检查，而应该通过修改 interface 定义来修复这些报错。"
   ]
  },
  {
   "cell_type": "markdown",
   "metadata": {},
   "source": [
    "## 函数类型\n",
    "\n",
    "接口除了能定义对象形状外，还可以描述函数类型："
   ]
  },
  {
   "cell_type": "code",
   "execution_count": 12,
   "metadata": {},
   "outputs": [
    {
     "name": "stdout",
     "output_type": "stream",
     "text": [
      "true\n"
     ]
    },
    {
     "data": {
      "text/plain": [
       "undefined"
      ]
     },
     "execution_count": 12,
     "metadata": {},
     "output_type": "execute_result"
    }
   ],
   "source": [
    "interface SearchFunc {\n",
    "    (source: string, subString: string): boolean\n",
    "}\n",
    "\n",
    "let mySearch: SearchFunc\n",
    "mySearch = function(src: string, sub: string) {\n",
    "    let result = src.includes(sub)\n",
    "    return result\n",
    "}\n",
    "\n",
    "// 当然指定了函数类型后不一定需要指定参数类型，因为 `SearchFunc` 类型接口以及指定了参数类型。\n",
    "mySearch = function(src, sub) {\n",
    "    let result = src.includes(sub)\n",
    "    return result\n",
    "}\n",
    "\n",
    "console.log(mySearch('hello', 'el'))"
   ]
  },
  {
   "cell_type": "code",
   "execution_count": null,
   "metadata": {},
   "outputs": [],
   "source": []
  }
 ],
 "metadata": {
  "kernelspec": {
   "display_name": "Typescript 3.4",
   "language": "typescript",
   "name": "typescript"
  },
  "language_info": {
   "file_extension": ".ts",
   "mimetype": "application/x-typescript",
   "name": "typescript",
   "version": "3.4.4"
  }
 },
 "nbformat": 4,
 "nbformat_minor": 2
}
