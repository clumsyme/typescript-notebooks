{
 "cells": [
  {
   "cell_type": "markdown",
   "metadata": {},
   "source": [
    "# 高级类型\n",
    "\n",
    "## 交叉类型\n",
    "\n"
   ]
  },
  {
   "cell_type": "code",
   "execution_count": 1,
   "metadata": {},
   "outputs": [
    {
     "data": {
      "text/plain": [
       "undefined"
      ]
     },
     "execution_count": 1,
     "metadata": {},
     "output_type": "execute_result"
    }
   ],
   "source": [
    "interface Programmer {\n",
    "    eat: () => void\n",
    "    sleep: () => void\n",
    "    code: () => void\n",
    "}\n",
    "\n",
    "interface Manager {\n",
    "    eat: () => void\n",
    "    sleep: () => void\n",
    "    makeplan: () => void\n",
    "}\n",
    "\n",
    "let boss: Manager & Programmer = {\n",
    "    eat: () => {\n",
    "        console.log('eating')\n",
    "    },\n",
    "    sleep: () => {\n",
    "        console.log('sleeping')\n",
    "    },\n",
    "    code: () => {\n",
    "        console.log('coding')\n",
    "    },\n",
    "    makeplan: () => {\n",
    "        console.log('planning')\n",
    "    },\n",
    "}"
   ]
  },
  {
   "cell_type": "markdown",
   "metadata": {},
   "source": [
    "交叉类型的对象可以使用所有类型的所有属性(boss 既是 Programmer 又是 Manager，两个类型的属性他都有)："
   ]
  },
  {
   "cell_type": "code",
   "execution_count": 2,
   "metadata": {},
   "outputs": [
    {
     "name": "stdout",
     "output_type": "stream",
     "text": [
      "eating\n",
      "sleeping\n",
      "coding\n",
      "planning\n"
     ]
    },
    {
     "data": {
      "text/plain": [
       "undefined"
      ]
     },
     "execution_count": 2,
     "metadata": {},
     "output_type": "execute_result"
    }
   ],
   "source": [
    "boss.eat()\n",
    "boss.sleep()\n",
    "boss.code()\n",
    "boss.makeplan()"
   ]
  },
  {
   "cell_type": "markdown",
   "metadata": {},
   "source": [
    "## 联合类型\n",
    "\n",
    "交叉类型将多个类型合并为一个类型。"
   ]
  },
  {
   "cell_type": "code",
   "execution_count": 3,
   "metadata": {},
   "outputs": [
    {
     "data": {
      "text/plain": [
       "undefined"
      ]
     },
     "execution_count": 3,
     "metadata": {},
     "output_type": "execute_result"
    }
   ],
   "source": [
    "let someone: Programmer | Manager = {\n",
    "    eat: () => {\n",
    "        console.log('eating')\n",
    "    },\n",
    "    sleep: () => {\n",
    "        console.log('sleeping')\n",
    "    },\n",
    "    code: () => {\n",
    "        console.log('coding')\n",
    "    },\n",
    "    makeplan: () => {\n",
    "        console.log('planning')\n",
    "    },\n",
    "}"
   ]
  },
  {
   "cell_type": "markdown",
   "metadata": {},
   "source": [
    "交叉类型的对象只能访问所有类型共有的属性(someone 是 Programmer 或者 Manager，他可能会 code，也可能不会)："
   ]
  },
  {
   "cell_type": "code",
   "execution_count": 4,
   "metadata": {},
   "outputs": [
    {
     "name": "stdout",
     "output_type": "stream",
     "text": [
      "eating\n",
      "sleeping\n"
     ]
    },
    {
     "data": {
      "text/plain": [
       "undefined"
      ]
     },
     "execution_count": 4,
     "metadata": {},
     "output_type": "execute_result"
    }
   ],
   "source": [
    "// ok\n",
    "someone.eat()\n",
    "someone.sleep()"
   ]
  },
  {
   "cell_type": "code",
   "execution_count": 5,
   "metadata": {},
   "outputs": [
    {
     "ename": "Error",
     "evalue": "Line 2, Character 9\nsomeone.code()\n________^\nTS2339: Property 'code' does not exist on type 'Programmer | Manager'.\n  Property 'code' does not exist on type 'Manager'.",
     "output_type": "error",
     "traceback": [
      "Error: Line 2, Character 9",
      "someone.code()",
      "________^",
      "TS2339: Property 'code' does not exist on type 'Programmer | Manager'.",
      "  Property 'code' does not exist on type 'Manager'.",
      "    at execTranspile (/Users/yan/.npm-global-packages/lib/node_modules/itypescript/lib/kernel.js:203:27)",
      "    at Session.transpiler [as transpile] (/Users/yan/.npm-global-packages/lib/node_modules/itypescript/lib/kernel.js:263:37)",
      "    at Session._runNow (/Users/yan/.npm-global-packages/lib/node_modules/itypescript/node_modules/nel/lib/nel.js:796:39)",
      "    at Session._runNext (/Users/yan/.npm-global-packages/lib/node_modules/itypescript/node_modules/nel/lib/nel.js:837:14)",
      "    at Session._onMessage (/Users/yan/.npm-global-packages/lib/node_modules/itypescript/node_modules/nel/lib/nel.js:753:14)",
      "    at ChildProcess.emit (events.js:189:13)",
      "    at emit (internal/child_process.js:820:12)",
      "    at process._tickCallback (internal/process/next_tick.js:63:19)"
     ]
    }
   ],
   "source": [
    "// not ok\n",
    "someone.code()"
   ]
  },
  {
   "cell_type": "markdown",
   "metadata": {},
   "source": [
    "## 类型保护与区分类型"
   ]
  },
  {
   "cell_type": "markdown",
   "metadata": {},
   "source": [
    "如果我们需要调用 `someone.code`，该怎么办呢？\n",
    "\n",
    "一个办法是类型断言："
   ]
  },
  {
   "cell_type": "code",
   "execution_count": 6,
   "metadata": {},
   "outputs": [
    {
     "name": "stdout",
     "output_type": "stream",
     "text": [
      "sleeping\n",
      "planning\n"
     ]
    },
    {
     "data": {
      "text/plain": [
       "undefined"
      ]
     },
     "execution_count": 6,
     "metadata": {},
     "output_type": "execute_result"
    }
   ],
   "source": [
    ";(<Programmer>someone).sleep();\n",
    "\n",
    "(<Manager>someone).makeplan()"
   ]
  },
  {
   "cell_type": "markdown",
   "metadata": {},
   "source": [
    "为了避免多次使用类型断言，可以使用类型保护：\n",
    "\n",
    "- 类型谓词\n",
    "- typeof\n",
    "- instanceof\n",
    "\n",
    "#### 类型谓词\n",
    "\n",
    "类型谓词作为一个函数的返回值：\n",
    "\n",
    "这里，在 if 内我们知道 someone 是 Programmer，而且知道在 else 内 someone 是 Manager。"
   ]
  },
  {
   "cell_type": "code",
   "execution_count": 7,
   "metadata": {},
   "outputs": [
    {
     "name": "stdout",
     "output_type": "stream",
     "text": [
      "coding\n"
     ]
    },
    {
     "data": {
      "text/plain": [
       "undefined"
      ]
     },
     "execution_count": 7,
     "metadata": {},
     "output_type": "execute_result"
    }
   ],
   "source": [
    "function isProgrammer(person: Programmer | Manager): person is Programmer {\n",
    "    return (<Programmer>person).code !== undefined\n",
    "}\n",
    "\n",
    "if (isProgrammer(someone)) {\n",
    "    someone.code()\n",
    "} else {\n",
    "    someone.makeplan()\n",
    "}"
   ]
  },
  {
   "cell_type": "markdown",
   "metadata": {},
   "source": [
    "#### typeof 类型保护\n",
    "\n",
    "对于原始类型，我们不需要每次定义函数来判断对象类型，这太麻烦了。我们可以与 typeof 来进行类型保护：\n",
    "\n",
    "typeof 类型保护只有两种形式：\n",
    "\n",
    "- typeof v === \"typename\"\n",
    "- typeof v !== \"typename\"\n",
    "\n",
    "其中 typename 只能是 \"number\"， \"string\"， \"boolean\"或 \"symbol\"。"
   ]
  },
  {
   "cell_type": "code",
   "execution_count": 8,
   "metadata": {},
   "outputs": [
    {
     "name": "stdout",
     "output_type": "stream",
     "text": [
      "10\n",
      "55\n"
     ]
    },
    {
     "data": {
      "text/plain": [
       "undefined"
      ]
     },
     "execution_count": 8,
     "metadata": {},
     "output_type": "execute_result"
    }
   ],
   "source": [
    "function mulTwo(x: string | number): string | number {\n",
    "    if (typeof x === 'number') {\n",
    "        return x * 2\n",
    "    } else {\n",
    "        return x.repeat(2)\n",
    "    }\n",
    "}\n",
    "\n",
    "console.log(mulTwo(5))\n",
    "console.log(mulTwo('5'))"
   ]
  },
  {
   "cell_type": "markdown",
   "metadata": {},
   "source": [
    "#### instanceof 类型保护\n",
    "\n",
    "instanceof的右侧要求是一个构造函数。"
   ]
  },
  {
   "cell_type": "code",
   "execution_count": 9,
   "metadata": {},
   "outputs": [
    {
     "name": "stdout",
     "output_type": "stream",
     "text": [
      "wang~\n"
     ]
    },
    {
     "data": {
      "text/plain": [
       "undefined"
      ]
     },
     "execution_count": 9,
     "metadata": {},
     "output_type": "execute_result"
    }
   ],
   "source": [
    "class Dog {\n",
    "    eat() {}\n",
    "    bark() { console.log('wang~') }\n",
    "}\n",
    "\n",
    "class Cat {\n",
    "    eat() {}\n",
    "    mew() { console.log('meeew~') }\n",
    "}\n",
    "\n",
    "function getPet(x: number) {\n",
    "    return x > 1 ? new Dog() : new Cat()\n",
    "}\n",
    "\n",
    "// pet 的类型为 Dog | Cat\n",
    "let pet = getPet(5)\n",
    "if (pet instanceof Dog) {\n",
    "    pet.bark()\n",
    "} else {\n",
    "    pet.mew()\n",
    "}"
   ]
  },
  {
   "cell_type": "markdown",
   "metadata": {},
   "source": [
    "## null 与 undefined\n",
    "\n",
    "null 与 undefined 可以赋值给任意类型。\n",
    "\n",
    "如果需要区分 null，打开 TypeScript 的 `--strictNullChecks`。\n",
    "\n",
    "```js\n",
    "// ok\n",
    "let s: string\n",
    "s = null\n",
    "\n",
    "// not ok with --strictNullChecks\n",
    "let n: number\n",
    "n = undefined\n",
    "```"
   ]
  },
  {
   "cell_type": "markdown",
   "metadata": {},
   "source": [
    "null 与 undefined 可以与其他类型组成联合类型，这时候就可能需要使用类型保护去除 null。"
   ]
  },
  {
   "cell_type": "code",
   "execution_count": 10,
   "metadata": {},
   "outputs": [
    {
     "name": "stdout",
     "output_type": "stream",
     "text": [
      "it's null\n",
      "it's null\n"
     ]
    },
    {
     "data": {
      "text/plain": [
       "undefined"
      ]
     },
     "execution_count": 10,
     "metadata": {},
     "output_type": "execute_result"
    }
   ],
   "source": [
    "function echo(s: string | null) {\n",
    "    if (s !== null) {\n",
    "        console.log(s)\n",
    "    } else {\n",
    "        console.log(\"it's null\")\n",
    "    }\n",
    "}\n",
    "\n",
    "// 或者\n",
    "\n",
    "function echo2(s: string | null) {\n",
    "    console.log(s || \"it's null\")\n",
    "}\n",
    "\n",
    "echo(null)\n",
    "echo2(null)"
   ]
  },
  {
   "cell_type": "markdown",
   "metadata": {},
   "source": [
    "编译器有可能不能去除 null，这时候需要我们手动去除。**方法是在变量名后边加`!`，这样就去除了 null 与 undefined.**"
   ]
  },
  {
   "cell_type": "code",
   "execution_count": 11,
   "metadata": {},
   "outputs": [
    {
     "name": "stdout",
     "output_type": "stream",
     "text": [
      "5\n",
      "0\n"
     ]
    },
    {
     "data": {
      "text/plain": [
       "undefined"
      ]
     },
     "execution_count": 11,
     "metadata": {},
     "output_type": "execute_result"
    }
   ],
   "source": [
    "function getLength(s: string | null) {\n",
    "    function getIt() {\n",
    "        // 编译器不能自动去除 null，我们手动加 ! 来去除\n",
    "        return s!.length\n",
    "    }\n",
    "    s = s || \"\"\n",
    "    return getIt()\n",
    "}\n",
    "\n",
    "console.log(getLength('hello'))\n",
    "console.log(getLength(null))"
   ]
  },
  {
   "cell_type": "markdown",
   "metadata": {},
   "source": [
    "## 类型别名\n",
    "\n",
    "类型别名给类型起一个新的名字，指向原来的类型（它本身不创建新的类型）。"
   ]
  },
  {
   "cell_type": "code",
   "execution_count": 12,
   "metadata": {},
   "outputs": [
    {
     "name": "stdout",
     "output_type": "stream",
     "text": [
      "eating\n",
      "sleeping\n",
      "coding\n",
      "planning\n"
     ]
    },
    {
     "data": {
      "text/plain": [
       "undefined"
      ]
     },
     "execution_count": 12,
     "metadata": {},
     "output_type": "execute_result"
    }
   ],
   "source": [
    "type Boss = Programmer & Manager\n",
    "\n",
    "let alice: Boss = {\n",
    "    eat: () => {\n",
    "        console.log('eating')\n",
    "    },\n",
    "    sleep: () => {\n",
    "        console.log('sleeping')\n",
    "    },\n",
    "    code: () => {\n",
    "        console.log('coding')\n",
    "    },\n",
    "    makeplan: () => {\n",
    "        console.log('planning')\n",
    "    }\n",
    "}\n",
    "\n",
    "alice.eat()\n",
    "alice.sleep()\n",
    "alice.code()\n",
    "alice.makeplan()"
   ]
  },
  {
   "cell_type": "markdown",
   "metadata": {},
   "source": [
    "#### 类型别名可能是泛型"
   ]
  },
  {
   "cell_type": "code",
   "execution_count": 13,
   "metadata": {},
   "outputs": [
    {
     "name": "stdout",
     "output_type": "stream",
     "text": [
      "1\n",
      "2\n"
     ]
    },
    {
     "data": {
      "text/plain": [
       "undefined"
      ]
     },
     "execution_count": 13,
     "metadata": {},
     "output_type": "execute_result"
    }
   ],
   "source": [
    "type Container<T> = { value: T }\n",
    "\n",
    "type LinkedList<T> = {\n",
    "    value: T,\n",
    "    next: LinkedList<T> | null\n",
    "}\n",
    "\n",
    "let ll: LinkedList<number> =  {\n",
    "    value: 1,\n",
    "    next: {\n",
    "        value: 2,\n",
    "        next: null,\n",
    "    }\n",
    "}\n",
    "\n",
    "console.log(ll.value)\n",
    "console.log(ll.next!.value)"
   ]
  },
  {
   "cell_type": "markdown",
   "metadata": {},
   "source": [
    "*类型别名不能出现在 `=` 的右侧*"
   ]
  },
  {
   "cell_type": "code",
   "execution_count": 14,
   "metadata": {},
   "outputs": [
    {
     "ename": "Error",
     "evalue": "Line 1, Character 6\ntype Yikes = Array<Yikes>; // error\n_____^\nTS2456: Type alias 'Yikes' circularly references itself.",
     "output_type": "error",
     "traceback": [
      "Error: Line 1, Character 6",
      "type Yikes = Array<Yikes>; // error",
      "_____^",
      "TS2456: Type alias 'Yikes' circularly references itself.",
      "    at execTranspile (/Users/yan/.npm-global-packages/lib/node_modules/itypescript/lib/kernel.js:203:27)",
      "    at Session.transpiler [as transpile] (/Users/yan/.npm-global-packages/lib/node_modules/itypescript/lib/kernel.js:263:37)",
      "    at Session._runNow (/Users/yan/.npm-global-packages/lib/node_modules/itypescript/node_modules/nel/lib/nel.js:796:39)",
      "    at Session._runNext (/Users/yan/.npm-global-packages/lib/node_modules/itypescript/node_modules/nel/lib/nel.js:837:14)",
      "    at Session._onMessage (/Users/yan/.npm-global-packages/lib/node_modules/itypescript/node_modules/nel/lib/nel.js:753:14)",
      "    at ChildProcess.emit (events.js:189:13)",
      "    at emit (internal/child_process.js:820:12)",
      "    at process._tickCallback (internal/process/next_tick.js:63:19)"
     ]
    }
   ],
   "source": [
    "type Yikes = Array<Yikes>; // error"
   ]
  },
  {
   "cell_type": "markdown",
   "metadata": {},
   "source": [
    "## 字符串字面类型"
   ]
  },
  {
   "cell_type": "code",
   "execution_count": 15,
   "metadata": {},
   "outputs": [
    {
     "data": {
      "text/plain": [
       "'small button'"
      ]
     },
     "execution_count": 15,
     "metadata": {},
     "output_type": "execute_result"
    }
   ],
   "source": [
    "type Size = \"small\" | \"middle\" | \"big\"\n",
    "\n",
    "function getButton(size: Size): string {\n",
    "    if (size === 'small') {\n",
    "        return 'small button'\n",
    "    } else if (size === 'middle') {\n",
    "        return 'middle button'\n",
    "    } else {\n",
    "        return 'big button'\n",
    "    }\n",
    "}\n",
    "\n",
    "// 只能是 Size 规定的几种值\n",
    "getButton('small')"
   ]
  },
  {
   "cell_type": "code",
   "execution_count": 16,
   "metadata": {},
   "outputs": [
    {
     "ename": "Error",
     "evalue": "Line 1, Character 11\ngetButton('huge')\n__________^\nTS2345: Argument of type '\"huge\"' is not assignable to parameter of type 'Size'.",
     "output_type": "error",
     "traceback": [
      "Error: Line 1, Character 11",
      "getButton('huge')",
      "__________^",
      "TS2345: Argument of type '\"huge\"' is not assignable to parameter of type 'Size'.",
      "    at execTranspile (/Users/yan/.npm-global-packages/lib/node_modules/itypescript/lib/kernel.js:203:27)",
      "    at Session.transpiler [as transpile] (/Users/yan/.npm-global-packages/lib/node_modules/itypescript/lib/kernel.js:263:37)",
      "    at Session._runNow (/Users/yan/.npm-global-packages/lib/node_modules/itypescript/node_modules/nel/lib/nel.js:796:39)",
      "    at Session._runNext (/Users/yan/.npm-global-packages/lib/node_modules/itypescript/node_modules/nel/lib/nel.js:837:14)",
      "    at Session._onMessage (/Users/yan/.npm-global-packages/lib/node_modules/itypescript/node_modules/nel/lib/nel.js:753:14)",
      "    at ChildProcess.emit (events.js:189:13)",
      "    at emit (internal/child_process.js:820:12)",
      "    at process._tickCallback (internal/process/next_tick.js:63:19)"
     ]
    }
   ],
   "source": [
    "getButton('huge')"
   ]
  },
  {
   "cell_type": "markdown",
   "metadata": {},
   "source": [
    "## 数字字面量类型\n",
    "\n",
    "与字符串字面量类型类似。"
   ]
  },
  {
   "cell_type": "code",
   "execution_count": 17,
   "metadata": {},
   "outputs": [
    {
     "name": "stdout",
     "output_type": "stream",
     "text": [
      "3\n"
     ]
    },
    {
     "data": {
      "text/plain": [
       "undefined"
      ]
     },
     "execution_count": 17,
     "metadata": {},
     "output_type": "execute_result"
    }
   ],
   "source": [
    "type DiceValue = 1 | 2 | 3 | 4 | 5 | 6\n",
    "\n",
    "function roll(): DiceValue {\n",
    "    return <DiceValue>Math.ceil(Math.random() * 6)\n",
    "}\n",
    "\n",
    "console.log(roll())"
   ]
  },
  {
   "cell_type": "markdown",
   "metadata": {},
   "source": [
    "## 枚举成员类型\n",
    "\n",
    "每个成员都用字面量初始化的枚举类型成员是有类型的。详见枚举一章。"
   ]
  },
  {
   "cell_type": "markdown",
   "metadata": {},
   "source": [
    "## 映射类型\n",
    "\n",
    "映射类型用于从旧类型创建新类型。"
   ]
  },
  {
   "cell_type": "code",
   "execution_count": 18,
   "metadata": {},
   "outputs": [
    {
     "data": {
      "text/plain": [
       "undefined"
      ]
     },
     "execution_count": 18,
     "metadata": {},
     "output_type": "execute_result"
    }
   ],
   "source": [
    "type Reaconly<T> = {\n",
    "    [K in keyof T]: T[K]\n",
    "}\n",
    "\n",
    "type Optional<T> = {\n",
    "    [K in keyof T]?: T[K]\n",
    "}\n",
    "\n",
    "interface Person {\n",
    "    name: string\n",
    "    age: number\n",
    "}\n",
    "\n",
    "type ReadonlyPerson = Readonly<Person>\n",
    "\n",
    "let bob: ReadonlyPerson = {\n",
    "    name: 'Bob',\n",
    "    age: 10\n",
    "}"
   ]
  },
  {
   "cell_type": "code",
   "execution_count": 19,
   "metadata": {},
   "outputs": [
    {
     "ename": "Error",
     "evalue": "Line 2, Character 5\nbob.age = 20\n____^\nTS2540: Cannot assign to 'age' because it is a read-only property.",
     "output_type": "error",
     "traceback": [
      "Error: Line 2, Character 5",
      "bob.age = 20",
      "____^",
      "TS2540: Cannot assign to 'age' because it is a read-only property.",
      "    at execTranspile (/Users/yan/.npm-global-packages/lib/node_modules/itypescript/lib/kernel.js:203:27)",
      "    at Session.transpiler [as transpile] (/Users/yan/.npm-global-packages/lib/node_modules/itypescript/lib/kernel.js:263:37)",
      "    at Session._runNow (/Users/yan/.npm-global-packages/lib/node_modules/itypescript/node_modules/nel/lib/nel.js:796:39)",
      "    at Session._runNext (/Users/yan/.npm-global-packages/lib/node_modules/itypescript/node_modules/nel/lib/nel.js:837:14)",
      "    at Session._onMessage (/Users/yan/.npm-global-packages/lib/node_modules/itypescript/node_modules/nel/lib/nel.js:753:14)",
      "    at ChildProcess.emit (events.js:189:13)",
      "    at emit (internal/child_process.js:820:12)",
      "    at process._tickCallback (internal/process/next_tick.js:63:19)"
     ]
    }
   ],
   "source": [
    "// it's readonly\n",
    "bob.age = 20"
   ]
  },
  {
   "cell_type": "code",
   "execution_count": 20,
   "metadata": {},
   "outputs": [
    {
     "data": {
      "text/plain": [
       "undefined"
      ]
     },
     "execution_count": 20,
     "metadata": {},
     "output_type": "execute_result"
    }
   ],
   "source": [
    "type OptionalPerson = Optional<Person>\n",
    "\n",
    "let Tom: OptionalPerson =  {\n",
    "    name: 'Tom'\n",
    "}"
   ]
  },
  {
   "cell_type": "code",
   "execution_count": null,
   "metadata": {},
   "outputs": [],
   "source": []
  }
 ],
 "metadata": {
  "kernelspec": {
   "display_name": "Typescript 3.4",
   "language": "typescript",
   "name": "typescript"
  },
  "language_info": {
   "file_extension": ".ts",
   "mimetype": "application/x-typescript",
   "name": "typescript",
   "version": "3.4.4"
  }
 },
 "nbformat": 4,
 "nbformat_minor": 2
}
