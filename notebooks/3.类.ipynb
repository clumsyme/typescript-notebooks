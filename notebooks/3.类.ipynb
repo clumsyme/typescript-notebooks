{
 "cells": [
  {
   "cell_type": "markdown",
   "metadata": {},
   "source": [
    "# 类"
   ]
  },
  {
   "cell_type": "markdown",
   "metadata": {},
   "source": [
    "## Public、private 与 protected 修饰符\n",
    "\n",
    "#### 默认 public"
   ]
  },
  {
   "cell_type": "code",
   "execution_count": 1,
   "metadata": {},
   "outputs": [
    {
     "data": {
      "text/plain": [
       "undefined"
      ]
     },
     "execution_count": 1,
     "metadata": {},
     "output_type": "execute_result"
    }
   ],
   "source": [
    "class Animal {\n",
    "    public name: string\n",
    "    public constructor(name: string) {\n",
    "        this.name = name\n",
    "    }\n",
    "    public move(distance: number) {\n",
    "        console.log(`${this.name} moved ${distance}`)\n",
    "    }\n",
    "}\n",
    "\n",
    "// 等于\n",
    "\n",
    "class AnimalDefaultPublic {\n",
    "    name: string\n",
    "    constructor(name: string) {\n",
    "        this.name = name\n",
    "    }\n",
    "    move(distance: number) {\n",
    "        console.log(`${this.name} moved ${distance}`)\n",
    "    }\n",
    "}"
   ]
  },
  {
   "cell_type": "markdown",
   "metadata": {},
   "source": [
    "#### private 修饰的属性，只能在声明它的类内部使用"
   ]
  },
  {
   "cell_type": "code",
   "execution_count": 2,
   "metadata": {},
   "outputs": [
    {
     "data": {
      "text/plain": [
       "undefined"
      ]
     },
     "execution_count": 2,
     "metadata": {},
     "output_type": "execute_result"
    }
   ],
   "source": [
    "class MyNameIsPrivate {\n",
    "    private name: string\n",
    "    constructor(name: string) {\n",
    "        this.name = name\n",
    "    }\n",
    "    getName() {\n",
    "        return this.name\n",
    "    }\n",
    "}\n",
    "\n",
    "let mp = new MyNameIsPrivate('Tom')"
   ]
  },
  {
   "cell_type": "code",
   "execution_count": 3,
   "metadata": {},
   "outputs": [
    {
     "name": "stdout",
     "output_type": "stream",
     "text": [
      "Tom\n"
     ]
    },
    {
     "data": {
      "text/plain": [
       "undefined"
      ]
     },
     "execution_count": 3,
     "metadata": {},
     "output_type": "execute_result"
    }
   ],
   "source": [
    "console.log(mp.getName())"
   ]
  },
  {
   "cell_type": "code",
   "execution_count": 4,
   "metadata": {},
   "outputs": [
    {
     "ename": "Error",
     "evalue": "Line 1, Character 16\nconsole.log(mp.name)\n_______________^\nTS2341: Property 'name' is private and only accessible within class 'MyNameIsPrivate'.",
     "output_type": "error",
     "traceback": [
      "Error: Line 1, Character 16",
      "console.log(mp.name)",
      "_______________^",
      "TS2341: Property 'name' is private and only accessible within class 'MyNameIsPrivate'.",
      "    at execTranspile (/Users/yan/.npm-global-packages/lib/node_modules/itypescript/lib/kernel.js:203:27)",
      "    at Session.transpiler [as transpile] (/Users/yan/.npm-global-packages/lib/node_modules/itypescript/lib/kernel.js:263:37)",
      "    at Session._runNow (/Users/yan/.npm-global-packages/lib/node_modules/itypescript/node_modules/nel/lib/nel.js:796:39)",
      "    at Session._runNext (/Users/yan/.npm-global-packages/lib/node_modules/itypescript/node_modules/nel/lib/nel.js:837:14)",
      "    at Session._onMessage (/Users/yan/.npm-global-packages/lib/node_modules/itypescript/node_modules/nel/lib/nel.js:753:14)",
      "    at ChildProcess.emit (events.js:182:13)",
      "    at emit (internal/child_process.js:812:12)",
      "    at process._tickCallback (internal/process/next_tick.js:63:19)"
     ]
    }
   ],
   "source": [
    "console.log(mp.name)"
   ]
  },
  {
   "cell_type": "markdown",
   "metadata": {},
   "source": [
    "TypeScript 以结构来比较不同类型。只要两个类型具有同样的结构，就认为两者是兼容的。"
   ]
  },
  {
   "cell_type": "code",
   "execution_count": 5,
   "metadata": {},
   "outputs": [
    {
     "name": "stdout",
     "output_type": "stream",
     "text": [
      "Coordinate { x: 20, y: 20 }\n"
     ]
    },
    {
     "data": {
      "text/plain": [
       "undefined"
      ]
     },
     "execution_count": 5,
     "metadata": {},
     "output_type": "execute_result"
    }
   ],
   "source": [
    "class Point {\n",
    "    x: number\n",
    "    y: number\n",
    "    constructor(x: number, y: number) {\n",
    "        this.x = x\n",
    "        this.y = y\n",
    "    }\n",
    "}\n",
    "\n",
    "class Coordinate {\n",
    "    x: number\n",
    "    y: number\n",
    "    constructor(x: number, y: number) {\n",
    "        this.x = x\n",
    "        this.y = y\n",
    "    }\n",
    "}\n",
    "\n",
    "let point = new Point(10, 10)\n",
    "let coordinate = new Coordinate(20, 20)\n",
    "\n",
    "point = coordinate\n",
    "\n",
    "console.log(point)"
   ]
  },
  {
   "cell_type": "markdown",
   "metadata": {},
   "source": [
    "但是如果两个类型中有一个有 `private` 或者 `protected` 修饰的类型，另一个必须有**来自一个地方声明的 `private` 或者 `protected` 类型**。"
   ]
  },
  {
   "cell_type": "code",
   "execution_count": 6,
   "metadata": {},
   "outputs": [
    {
     "data": {
      "text/plain": [
       "undefined"
      ]
     },
     "execution_count": 6,
     "metadata": {},
     "output_type": "execute_result"
    }
   ],
   "source": [
    "class Shape {\n",
    "    private color: string\n",
    "}\n",
    "\n",
    "// OK\n",
    "class Square extends Shape { }"
   ]
  },
  {
   "cell_type": "code",
   "execution_count": 7,
   "metadata": {},
   "outputs": [
    {
     "ename": "Error",
     "evalue": "Line 2, Character 7\nclass Circle extends Shape {\n______^\nTS2415: Class 'Circle' incorrectly extends base class 'Shape'.\n  Types have separate declarations of a private property 'color'.",
     "output_type": "error",
     "traceback": [
      "Error: Line 2, Character 7",
      "class Circle extends Shape {",
      "______^",
      "TS2415: Class 'Circle' incorrectly extends base class 'Shape'.",
      "  Types have separate declarations of a private property 'color'.",
      "    at execTranspile (/Users/yan/.npm-global-packages/lib/node_modules/itypescript/lib/kernel.js:203:27)",
      "    at Session.transpiler [as transpile] (/Users/yan/.npm-global-packages/lib/node_modules/itypescript/lib/kernel.js:263:37)",
      "    at Session._runNow (/Users/yan/.npm-global-packages/lib/node_modules/itypescript/node_modules/nel/lib/nel.js:796:39)",
      "    at Session._runNext (/Users/yan/.npm-global-packages/lib/node_modules/itypescript/node_modules/nel/lib/nel.js:837:14)",
      "    at Session._onMessage (/Users/yan/.npm-global-packages/lib/node_modules/itypescript/node_modules/nel/lib/nel.js:753:14)",
      "    at ChildProcess.emit (events.js:182:13)",
      "    at emit (internal/child_process.js:812:12)",
      "    at process._tickCallback (internal/process/next_tick.js:63:19)"
     ]
    }
   ],
   "source": [
    "// 不 OK，因为 Circle 的 private color 与 Shape 的不是同一个声明\n",
    "class Circle extends Shape {\n",
    "    private color: string\n",
    "}"
   ]
  },
  {
   "cell_type": "code",
   "execution_count": 8,
   "metadata": {},
   "outputs": [
    {
     "ename": "Error",
     "evalue": "Line 9, Character 1\nshape = customShape\n^\nTS2322: Type 'CustomShape' is not assignable to type 'Shape'.\n  Types have separate declarations of a private property 'color'.",
     "output_type": "error",
     "traceback": [
      "Error: Line 9, Character 1",
      "shape = customShape",
      "^",
      "TS2322: Type 'CustomShape' is not assignable to type 'Shape'.",
      "  Types have separate declarations of a private property 'color'.",
      "    at execTranspile (/Users/yan/.npm-global-packages/lib/node_modules/itypescript/lib/kernel.js:203:27)",
      "    at Session.transpiler [as transpile] (/Users/yan/.npm-global-packages/lib/node_modules/itypescript/lib/kernel.js:263:37)",
      "    at Session._runNow (/Users/yan/.npm-global-packages/lib/node_modules/itypescript/node_modules/nel/lib/nel.js:796:39)",
      "    at Session._runNext (/Users/yan/.npm-global-packages/lib/node_modules/itypescript/node_modules/nel/lib/nel.js:837:14)",
      "    at Session._onMessage (/Users/yan/.npm-global-packages/lib/node_modules/itypescript/node_modules/nel/lib/nel.js:753:14)",
      "    at Session._runNow (/Users/yan/.npm-global-packages/lib/node_modules/itypescript/node_modules/nel/lib/nel.js:800:18)",
      "    at Session._runNext (/Users/yan/.npm-global-packages/lib/node_modules/itypescript/node_modules/nel/lib/nel.js:837:14)",
      "    at Session._onMessage (/Users/yan/.npm-global-packages/lib/node_modules/itypescript/node_modules/nel/lib/nel.js:753:14)",
      "    at ChildProcess.emit (events.js:182:13)",
      "    at emit (internal/child_process.js:812:12)"
     ]
    }
   ],
   "source": [
    "// 和 Shape 声明一样，但是因为有 private，两者不兼容\n",
    "class CustomShape {\n",
    "    private color: string\n",
    "}\n",
    "\n",
    "let shape = new Shape()\n",
    "let customShape = new CustomShape()\n",
    "\n",
    "shape = customShape"
   ]
  },
  {
   "cell_type": "markdown",
   "metadata": {},
   "source": [
    "#### protected 修饰的属性，和 private 类似，但是还可以在其派生类内使用"
   ]
  },
  {
   "cell_type": "code",
   "execution_count": 9,
   "metadata": {},
   "outputs": [
    {
     "name": "stdout",
     "output_type": "stream",
     "text": [
      "Halo, my name is Kobe Bryant, I work in Lakers.\n"
     ]
    },
    {
     "data": {
      "text/plain": [
       "undefined"
      ]
     },
     "execution_count": 9,
     "metadata": {},
     "output_type": "execute_result"
    }
   ],
   "source": [
    "class Person {\n",
    "    protected name: string\n",
    "    private sex: number\n",
    "    constructor(name: string) {\n",
    "        this.name = name\n",
    "    }\n",
    "}\n",
    "\n",
    "class Employee extends Person {\n",
    "    private department: string\n",
    "    constructor(name: string, department: string) {\n",
    "        super(name);\n",
    "        this.department = department;\n",
    "    }\n",
    "    \n",
    "    introSelf() {\n",
    "        // 可以访问 this.name，但是不可以访问 this.sex，因为它是 Person 的私有属性\n",
    "        console.log(`Halo, my name is ${this.name}, I work in ${this.department}.`)\n",
    "    }\n",
    "}\n",
    "\n",
    "let kobe = new Employee('Kobe Bryant', 'Lakers')\n",
    "kobe.introSelf()"
   ]
  },
  {
   "cell_type": "markdown",
   "metadata": {},
   "source": [
    "constructor 构造函数也可以被标记为 protected，这意味着该类不能在其类声明块外进行实例化，但是可以扩展。"
   ]
  },
  {
   "cell_type": "code",
   "execution_count": 10,
   "metadata": {},
   "outputs": [
    {
     "name": "stdout",
     "output_type": "stream",
     "text": [
      "Droid {}\n"
     ]
    },
    {
     "data": {
      "text/plain": [
       "undefined"
      ]
     },
     "execution_count": 10,
     "metadata": {},
     "output_type": "execute_result"
    }
   ],
   "source": [
    "class AI {\n",
    "    protected constructor() {}\n",
    "    static getInstance() {\n",
    "        return new AI()\n",
    "    }\n",
    "}\n",
    "\n",
    "class Droid extends AI {\n",
    "    constructor() {\n",
    "        super()\n",
    "    }\n",
    "}\n",
    "\n",
    "let r2d2 = new Droid()\n",
    "console.log(r2d2)"
   ]
  },
  {
   "cell_type": "code",
   "execution_count": 11,
   "metadata": {},
   "outputs": [
    {
     "name": "stdout",
     "output_type": "stream",
     "text": [
      "AI {}\n"
     ]
    },
    {
     "data": {
      "text/plain": [
       "undefined"
      ]
     },
     "execution_count": 11,
     "metadata": {},
     "output_type": "execute_result"
    }
   ],
   "source": [
    "// this is OK\n",
    "let ai: AI = AI.getInstance()\n",
    "console.log(ai)"
   ]
  },
  {
   "cell_type": "code",
   "execution_count": 12,
   "metadata": {},
   "outputs": [
    {
     "ename": "Error",
     "evalue": "Line 2, Character 17\nlet anotherAi = new AI()\n________________^\nTS2674: Constructor of class 'AI' is protected and only accessible within the class declaration.",
     "output_type": "error",
     "traceback": [
      "Error: Line 2, Character 17",
      "let anotherAi = new AI()",
      "________________^",
      "TS2674: Constructor of class 'AI' is protected and only accessible within the class declaration.",
      "    at execTranspile (/Users/yan/.npm-global-packages/lib/node_modules/itypescript/lib/kernel.js:203:27)",
      "    at Session.transpiler [as transpile] (/Users/yan/.npm-global-packages/lib/node_modules/itypescript/lib/kernel.js:263:37)",
      "    at Session._runNow (/Users/yan/.npm-global-packages/lib/node_modules/itypescript/node_modules/nel/lib/nel.js:796:39)",
      "    at Session._runNext (/Users/yan/.npm-global-packages/lib/node_modules/itypescript/node_modules/nel/lib/nel.js:837:14)",
      "    at Session._onMessage (/Users/yan/.npm-global-packages/lib/node_modules/itypescript/node_modules/nel/lib/nel.js:753:14)",
      "    at ChildProcess.emit (events.js:182:13)",
      "    at emit (internal/child_process.js:812:12)",
      "    at process._tickCallback (internal/process/next_tick.js:63:19)"
     ]
    }
   ],
   "source": [
    "// this is not OK\n",
    "let anotherAi = new AI()"
   ]
  },
  {
   "cell_type": "markdown",
   "metadata": {},
   "source": [
    "#### readonly 修饰符\n",
    "\n",
    "可以用 readonly 来修饰属性，reaadonly 属性只能在声明时或者构造函数内初始化。"
   ]
  },
  {
   "cell_type": "code",
   "execution_count": 13,
   "metadata": {},
   "outputs": [
    {
     "data": {
      "text/plain": [
       "undefined"
      ]
     },
     "execution_count": 13,
     "metadata": {},
     "output_type": "execute_result"
    }
   ],
   "source": [
    "class Hero {\n",
    "    readonly superPower: string\n",
    "    readonly fromEarth: boolean = true\n",
    "    constructor(superPower: string) {\n",
    "        this.superPower = superPower\n",
    "    }\n",
    "}"
   ]
  },
  {
   "cell_type": "markdown",
   "metadata": {},
   "source": [
    "#### 参数属性\n",
    "\n",
    "上例中，我们的 superPower 写了两次，声明时和构造函数参数内。使用参数属性前缀，我们可以将声明和赋值结合到一个地方。该属性对 `private`、`public` 等同样有效。"
   ]
  },
  {
   "cell_type": "code",
   "execution_count": 14,
   "metadata": {},
   "outputs": [
    {
     "name": "stdout",
     "output_type": "stream",
     "text": [
      "Book { name: 'Lord of the Rings', pages: 666, author: 'J.R.R Tolkin' }\n",
      "666\n"
     ]
    },
    {
     "data": {
      "text/plain": [
       "undefined"
      ]
     },
     "execution_count": 14,
     "metadata": {},
     "output_type": "execute_result"
    }
   ],
   "source": [
    "class Book {\n",
    "    constructor(public name: string, private pages: number, readonly author: string) {}\n",
    "    \n",
    "    getPages() {\n",
    "        return this.pages\n",
    "    }\n",
    "    \n",
    "    introSelf() {\n",
    "        console.log(this)\n",
    "    }\n",
    "}\n",
    "\n",
    "let book = new Book('Lord of the Rings', 666, 'J.R.R Tolkin')\n",
    "book.introSelf()\n",
    "console.log(book.getPages())"
   ]
  },
  {
   "cell_type": "markdown",
   "metadata": {},
   "source": [
    "## 存取器\n",
    "\n",
    "setter 与 getter\n",
    "\n",
    "注意上述例子中，为了获取 private 属性 pages，我们需要调用一个方法。使用 setter 和 getter 可以向属性一样来进行操作。\n",
    "\n",
    "如果一个属性只有 get 而没有 set，会被自动推断为 readonly。"
   ]
  },
  {
   "cell_type": "code",
   "execution_count": 15,
   "metadata": {},
   "outputs": [
    {
     "name": "stdout",
     "output_type": "stream",
     "text": [
      "666\n",
      "OK, current progress is 10.\n",
      "Error, progress cant below 0.\n"
     ]
    },
    {
     "data": {
      "text/plain": [
       "-2"
      ]
     },
     "execution_count": 15,
     "metadata": {},
     "output_type": "execute_result"
    }
   ],
   "source": [
    "class Novel {\n",
    "    private __progress: number\n",
    "    constructor(public name: string, private __pages: number, readonly author: string) {\n",
    "        this.__progress = 0\n",
    "    }\n",
    "    \n",
    "    get pages(): number {\n",
    "        return this.__pages\n",
    "    }\n",
    "    \n",
    "    set progress(progress: number) {\n",
    "        if (progress < 0) {\n",
    "            console.log('Error, progress cant below 0.')\n",
    "            return\n",
    "        }\n",
    "        this.__progress = progress\n",
    "        console.log(`OK, current progress is ${progress}.`)\n",
    "    }\n",
    "}\n",
    "\n",
    "let novel = new Novel('Lord of the Rings', 666, 'J.R.R Tolkin')\n",
    "\n",
    "console.log(novel.pages)\n",
    "\n",
    "novel.progress = 10\n",
    "novel.progress = -2"
   ]
  },
  {
   "cell_type": "code",
   "execution_count": 16,
   "metadata": {},
   "outputs": [
    {
     "ename": "Error",
     "evalue": "Line 2, Character 7\nnovel.pages = 100\n______^\nTS2540: Cannot assign to 'pages' because it is a read-only property.",
     "output_type": "error",
     "traceback": [
      "Error: Line 2, Character 7",
      "novel.pages = 100",
      "______^",
      "TS2540: Cannot assign to 'pages' because it is a read-only property.",
      "    at execTranspile (/Users/yan/.npm-global-packages/lib/node_modules/itypescript/lib/kernel.js:203:27)",
      "    at Session.transpiler [as transpile] (/Users/yan/.npm-global-packages/lib/node_modules/itypescript/lib/kernel.js:263:37)",
      "    at Session._runNow (/Users/yan/.npm-global-packages/lib/node_modules/itypescript/node_modules/nel/lib/nel.js:796:39)",
      "    at Session._runNext (/Users/yan/.npm-global-packages/lib/node_modules/itypescript/node_modules/nel/lib/nel.js:837:14)",
      "    at Session._onMessage (/Users/yan/.npm-global-packages/lib/node_modules/itypescript/node_modules/nel/lib/nel.js:753:14)",
      "    at ChildProcess.emit (events.js:182:13)",
      "    at emit (internal/child_process.js:812:12)",
      "    at process._tickCallback (internal/process/next_tick.js:63:19)"
     ]
    }
   ],
   "source": [
    "// 只有 get，被自动推断为 readonly\n",
    "novel.pages = 100"
   ]
  },
  {
   "cell_type": "markdown",
   "metadata": {},
   "source": [
    "## 静态属性\n",
    "\n",
    "静态属性为类本身而非实例的属性。"
   ]
  },
  {
   "cell_type": "code",
   "execution_count": 17,
   "metadata": {},
   "outputs": [
    {
     "name": "stdout",
     "output_type": "stream",
     "text": [
      "Error, speed too high\n"
     ]
    },
    {
     "data": {
      "text/plain": [
       "100"
      ]
     },
     "execution_count": 17,
     "metadata": {},
     "output_type": "execute_result"
    }
   ],
   "source": [
    "class Car {\n",
    "    static maxSpeed: number = 100\n",
    "    \n",
    "    constructor(speed: number) {\n",
    "        if (speed > Car.maxSpeed) {\n",
    "            console.log('Error, speed too high')\n",
    "        }\n",
    "    }\n",
    "}\n",
    "\n",
    "let car = new Car(200)"
   ]
  },
  {
   "cell_type": "markdown",
   "metadata": {},
   "source": [
    "## 抽象类\n",
    "\n",
    "抽象类通常不能被实例化，而是作为其他类的基类。与接口不同的是，抽象类可以包含实现。抽象方法将不会被自动继承，必须在派生类内手动实现。"
   ]
  },
  {
   "cell_type": "code",
   "execution_count": 18,
   "metadata": {},
   "outputs": [
    {
     "name": "stdout",
     "output_type": "stream",
     "text": [
      "0\n",
      "100\n",
      "0\n"
     ]
    },
    {
     "data": {
      "text/plain": [
       "undefined"
      ]
     },
     "execution_count": 18,
     "metadata": {},
     "output_type": "execute_result"
    }
   ],
   "source": [
    "abstract class Container {\n",
    "    storage: number\n",
    "\n",
    "    abstract fill(): void\n",
    "\n",
    "    empty(): void {\n",
    "        this.storage = 0\n",
    "    }\n",
    "}\n",
    "\n",
    "class Cup extends Container {\n",
    "    storage = 0\n",
    "\n",
    "    fill() {\n",
    "        this.storage = 100\n",
    "    }\n",
    "    \n",
    "    take(amount: number) {\n",
    "        this.storage -= amount\n",
    "    }\n",
    "}\n",
    "\n",
    "let cup = new Cup()\n",
    "console.log(cup.storage)\n",
    "cup.fill()\n",
    "console.log(cup.storage)\n",
    "cup.empty()\n",
    "console.log(cup.storage)"
   ]
  },
  {
   "cell_type": "markdown",
   "metadata": {},
   "source": [
    "## 关于类\n",
    "\n",
    "当我们声明一个类的时候，我们产生了两个东西：\n",
    "\n",
    "- 类的实例的类型（表示类的实例的类型）\n",
    "- 构造函数\n",
    "\n",
    "这两者都是类本身，参见下边<a href=\"#类中声明的-constructor-与-实例的-contructor-属性：\">解释</a>"
   ]
  },
  {
   "cell_type": "code",
   "execution_count": 19,
   "metadata": {},
   "outputs": [
    {
     "name": "stdout",
     "output_type": "stream",
     "text": [
      "Device {}\n"
     ]
    },
    {
     "data": {
      "text/plain": [
       "undefined"
      ]
     },
     "execution_count": 19,
     "metadata": {},
     "output_type": "execute_result"
    }
   ],
   "source": [
    "class Device {\n",
    "    constructor() {}\n",
    "}\n",
    "\n",
    "// Device 可以作为一个类型使用\n",
    "let device: Device\n",
    "\n",
    "// constructor 会在 new 的时候被调用\n",
    "device = new Device()\n",
    "\n",
    "console.log(device)"
   ]
  },
  {
   "cell_type": "markdown",
   "metadata": {},
   "source": [
    "既然类可以生成类型，我们就可以把它**当做接口来使用。**"
   ]
  },
  {
   "cell_type": "code",
   "execution_count": 20,
   "metadata": {},
   "outputs": [
    {
     "name": "stdout",
     "output_type": "stream",
     "text": [
      "{ brand: 'Apple', price: '$1000' }\n"
     ]
    },
    {
     "data": {
      "text/plain": [
       "undefined"
      ]
     },
     "execution_count": 20,
     "metadata": {},
     "output_type": "execute_result"
    }
   ],
   "source": [
    "class Computer {\n",
    "    brand: string\n",
    "}\n",
    "\n",
    "interface MacbookPro extends Computer {\n",
    "    price: string\n",
    "}\n",
    "\n",
    "let myMacbookPro: MacbookPro = {\n",
    "    brand: 'Apple',\n",
    "    price: '$1000'\n",
    "}\n",
    "\n",
    "console.log(myMacbookPro)"
   ]
  },
  {
   "cell_type": "markdown",
   "metadata": {},
   "source": [
    "#### 类中声明的 constructor 与 实例的 contructor 属性：\n",
    "\n",
    "- 类中声明的 constructor 函数会被赋值给声明的类本身。\n",
    "- 实例的 contructor 属性指向实例的原型，也就是类的 prototype 的 contructor 属性，也就是类本身\n",
    "- 类的 constructor 属性指向 Function 类，因为类是 Function 的实例\n",
    "\n",
    "##### 类中声明的 constructor 函数会被赋值给声明的类本身。"
   ]
  },
  {
   "cell_type": "code",
   "execution_count": 21,
   "metadata": {},
   "outputs": [
    {
     "data": {
      "text/plain": [
       "undefined"
      ]
     },
     "execution_count": 21,
     "metadata": {},
     "output_type": "execute_result"
    }
   ],
   "source": [
    "class Album {\n",
    "    constructor(public artist: string) {\n",
    "        this.artist = artist\n",
    "        console.log('instance')\n",
    "    }\n",
    "    \n",
    "    play() {\n",
    "        console.log('Playing~~~')\n",
    "    }\n",
    "}"
   ]
  },
  {
   "cell_type": "markdown",
   "metadata": {},
   "source": [
    "我们查看 TypeScript 生成的 JavaScript 代码，可以看到 Album 被赋值给了构造函数 Album:\n",
    "\n",
    "```javascript\n",
    "let Album = (function () {\n",
    "    function Album(artist) {\n",
    "        this.artist = artist\n",
    "        console.log('instance')\n",
    "    }\n",
    "    Album.prototype.play = function() {\n",
    "        console.log('Playing~~~')\n",
    "    }\n",
    "    return Album;\n",
    "})()\n",
    "```"
   ]
  },
  {
   "cell_type": "markdown",
   "metadata": {},
   "source": [
    "##### 实例的 contructor 属性指向实例的原型，也就是类的 prototype 的 contructor 属性，也就是类本身\n",
    "\n",
    "##### 类的 constructor 属性指向 Function 类，因为类是 Function 的实例"
   ]
  },
  {
   "cell_type": "code",
   "execution_count": 22,
   "metadata": {},
   "outputs": [
    {
     "name": "stdout",
     "output_type": "stream",
     "text": [
      "instance\n",
      "true\n",
      "true\n",
      "true\n"
     ]
    },
    {
     "data": {
      "text/plain": [
       "undefined"
      ]
     },
     "execution_count": 22,
     "metadata": {},
     "output_type": "execute_result"
    }
   ],
   "source": [
    "let red = new Album('Taylor Swift')\n",
    "\n",
    "console.log(red.constructor === Album)\n",
    "console.log(Album.prototype.constructor === Album)\n",
    "console.log(Album.constructor === Function)"
   ]
  },
  {
   "cell_type": "code",
   "execution_count": null,
   "metadata": {},
   "outputs": [],
   "source": []
  }
 ],
 "metadata": {
  "kernelspec": {
   "display_name": "Typescript 3.4",
   "language": "typescript",
   "name": "typescript"
  },
  "language_info": {
   "file_extension": ".ts",
   "mimetype": "application/x-typescript",
   "name": "typescript",
   "version": "3.4.4"
  }
 },
 "nbformat": 4,
 "nbformat_minor": 2
}
