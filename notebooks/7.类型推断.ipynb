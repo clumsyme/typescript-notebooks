{
 "cells": [
  {
   "cell_type": "markdown",
   "metadata": {},
   "source": [
    "# 类型推断\n",
    "\n",
    "如果没有明确指明类型，TypeScript 会使用类型推断。\n",
    "\n",
    "最简单的，使用数字、字符串或对象字面量："
   ]
  },
  {
   "cell_type": "code",
   "execution_count": 1,
   "metadata": {},
   "outputs": [
    {
     "data": {
      "text/plain": [
       "undefined"
      ]
     },
     "execution_count": 1,
     "metadata": {},
     "output_type": "execute_result"
    }
   ],
   "source": [
    "let n = 3\n",
    "let s = 'hello'\n",
    "let obj = {\n",
    "    x: 10,\n",
    "}"
   ]
  },
  {
   "cell_type": "markdown",
   "metadata": {},
   "source": [
    "## 最佳通用类型\n",
    "\n",
    "当需要从几个表达式推断类型时，会使用这些表达式推断出一个兼容所有类型的类型。"
   ]
  },
  {
   "cell_type": "code",
   "execution_count": 2,
   "metadata": {},
   "outputs": [
    {
     "data": {
      "text/plain": [
       "undefined"
      ]
     },
     "execution_count": 2,
     "metadata": {},
     "output_type": "execute_result"
    }
   ],
   "source": [
    "interface Animal {\n",
    "    move: () => void\n",
    "}\n",
    "\n",
    "class Dog implements Animal {\n",
    "    move() {}\n",
    "    bark() {}\n",
    "}\n",
    "\n",
    "class Cat implements Animal {\n",
    "    move() {}\n",
    "}\n",
    "\n",
    "class Lion extends Cat {}\n",
    "class Tiger extends Cat {}\n",
    "\n",
    "let zoo = [new Lion(), new Cat(), new Tiger()]"
   ]
  },
  {
   "cell_type": "markdown",
   "metadata": {},
   "source": [
    "此处 `zoo` 会被推断为 `Cat[]` 类型。因为 Cat 可以作为所有成员的公共类型。\n",
    "\n",
    "但是如果没有一个成员能够作为所以成员的公共类型时，会被推断为所有类型的交叉类型："
   ]
  },
  {
   "cell_type": "code",
   "execution_count": 3,
   "metadata": {},
   "outputs": [
    {
     "data": {
      "text/plain": [
       "undefined"
      ]
     },
     "execution_count": 3,
     "metadata": {},
     "output_type": "execute_result"
    }
   ],
   "source": [
    "let zoo2 = [new Lion(), new Tiger()]"
   ]
  },
  {
   "cell_type": "markdown",
   "metadata": {},
   "source": [
    "此处，`zoo2`的类型被推断为 `(Lion | Tiger)[]`\n",
    "\n",
    "为了让它具有明确的类型，我们需要手动指定它的类型："
   ]
  },
  {
   "cell_type": "code",
   "execution_count": 4,
   "metadata": {},
   "outputs": [
    {
     "data": {
      "text/plain": [
       "undefined"
      ]
     },
     "execution_count": 4,
     "metadata": {},
     "output_type": "execute_result"
    }
   ],
   "source": [
    "let zoo3: Cat[] =  [new Lion(), new Tiger()]\n",
    "\n",
    "let zoo4: Animal[] = [new Dog(), new Lion(), new Tiger()]"
   ]
  },
  {
   "cell_type": "markdown",
   "metadata": {},
   "source": [
    "## 根据上下文推断\n",
    "\n",
    "根据对象所处的上下文，TypeScript 也可以推断它的类型。\n",
    "\n",
    "```ts\n",
    "let array: string[] = ['hello', 'world']\n",
    "\n",
    "// result 会被自动推断为 string 类型\n",
    "let result = array.join(',')\n",
    "\n",
    "window.onmousedown = function(mouseEvent) {\n",
    "    // mouseEvent 会被推断为 MouseEvent 类型\n",
    "    console.log(mouseEvent.button); //<- OK\n",
    "}\n",
    "```"
   ]
  },
  {
   "cell_type": "code",
   "execution_count": 5,
   "metadata": {},
   "outputs": [
    {
     "ename": "Error",
     "evalue": "Line 3, Character 28\n    console.log(mouseEvent.kangaroo); //<- Error!\n___________________________^\nTS2339: Property 'kangaroo' does not exist on type 'MouseEvent'.",
     "output_type": "error",
     "traceback": [
      "Error: Line 3, Character 28",
      "    console.log(mouseEvent.kangaroo); //<- Error!",
      "___________________________^",
      "TS2339: Property 'kangaroo' does not exist on type 'MouseEvent'.",
      "    at execTranspile (/Users/yan/.npm-global-packages/lib/node_modules/itypescript/lib/kernel.js:203:27)",
      "    at Session.transpiler [as transpile] (/Users/yan/.npm-global-packages/lib/node_modules/itypescript/lib/kernel.js:263:37)",
      "    at Session._runNow (/Users/yan/.npm-global-packages/lib/node_modules/itypescript/node_modules/nel/lib/nel.js:796:39)",
      "    at Session._runNext (/Users/yan/.npm-global-packages/lib/node_modules/itypescript/node_modules/nel/lib/nel.js:837:14)",
      "    at Session._onMessage (/Users/yan/.npm-global-packages/lib/node_modules/itypescript/node_modules/nel/lib/nel.js:753:14)",
      "    at ChildProcess.emit (events.js:189:13)",
      "    at emit (internal/child_process.js:820:12)",
      "    at process._tickCallback (internal/process/next_tick.js:63:19)"
     ]
    }
   ],
   "source": [
    "window.onmousedown = function(mouseEvent) {\n",
    "    // mouseEvent 会被推断为 MouseEvent 类型\n",
    "    console.log(mouseEvent.kangaroo); //<- Error!\n",
    "}"
   ]
  }
 ],
 "metadata": {
  "kernelspec": {
   "display_name": "Typescript 3.4",
   "language": "typescript",
   "name": "typescript"
  },
  "language_info": {
   "file_extension": ".ts",
   "mimetype": "application/x-typescript",
   "name": "typescript",
   "version": "3.4.4"
  }
 },
 "nbformat": 4,
 "nbformat_minor": 2
}
