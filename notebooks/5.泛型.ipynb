{
 "cells": [
  {
   "cell_type": "markdown",
   "metadata": {},
   "source": [
    "# 泛型\n",
    "\n",
    "如果我们声明了一个函数类型，那它就会很难扩展：\n",
    "\n",
    "```ts\n",
    "function identity(x: number): number {\n",
    "    return x\n",
    "}\n",
    "```\n",
    "\n",
    "如果之后我们需要字符串类型的参数，那它就不能满足了。\n",
    "\n",
    "- 一个方式是利用上一章的函数类型重载。\n",
    "- 或者使用 any 类型\n",
    "\n",
    "```ts\n",
    "function identity(x: any): any {\n",
    "    return x\n",
    "}\n",
    "```\n",
    "\n",
    "但是使用 any 会丢失类型信息，一个更简便的方法是使用**泛型**。"
   ]
  },
  {
   "cell_type": "code",
   "execution_count": 1,
   "metadata": {},
   "outputs": [
    {
     "data": {
      "text/plain": [
       "undefined"
      ]
     },
     "execution_count": 1,
     "metadata": {},
     "output_type": "execute_result"
    }
   ],
   "source": [
    "function identity<T>(x: T): T {\n",
    "    return x\n",
    "}"
   ]
  },
  {
   "cell_type": "markdown",
   "metadata": {},
   "source": [
    "泛型是一个类型参数，此处我们添加了 `T` 类型参数，说明我们的函数参数都是 T 类型的，返回值和参数值类型相同。\n",
    "\n",
    "#### 我们可以显示地传入泛型类型参数"
   ]
  },
  {
   "cell_type": "code",
   "execution_count": 2,
   "metadata": {},
   "outputs": [
    {
     "data": {
      "text/plain": [
       "1"
      ]
     },
     "execution_count": 2,
     "metadata": {},
     "output_type": "execute_result"
    }
   ],
   "source": [
    "identity<number>(1)"
   ]
  },
  {
   "cell_type": "markdown",
   "metadata": {},
   "source": [
    "#### 也可以利用类型推到，让编译器查看参数类型自行决定泛型类型。"
   ]
  },
  {
   "cell_type": "code",
   "execution_count": 3,
   "metadata": {},
   "outputs": [
    {
     "data": {
      "text/plain": [
       "'hello'"
      ]
     },
     "execution_count": 3,
     "metadata": {},
     "output_type": "execute_result"
    }
   ],
   "source": [
    "identity('hello')"
   ]
  },
  {
   "cell_type": "markdown",
   "metadata": {},
   "source": [
    "## 泛型变量\n",
    "\n",
    "使用泛型变量时，这些参数被视为任意或者所有类型，下边的格式被认为是错误的，因为某些类型可能不支持 `+` 操作符：\n",
    "\n",
    "*但是 any 类型可以使用 `+`?*"
   ]
  },
  {
   "cell_type": "code",
   "execution_count": 4,
   "metadata": {},
   "outputs": [
    {
     "ename": "Error",
     "evalue": "Line 2, Character 12\n    return x + y\n___________^\nTS2365: Operator '+' cannot be applied to types 'T' and 'T'.",
     "output_type": "error",
     "traceback": [
      "Error: Line 2, Character 12",
      "    return x + y",
      "___________^",
      "TS2365: Operator '+' cannot be applied to types 'T' and 'T'.",
      "    at execTranspile (/Users/yan/.npm-global-packages/lib/node_modules/itypescript/lib/kernel.js:203:27)",
      "    at Session.transpiler [as transpile] (/Users/yan/.npm-global-packages/lib/node_modules/itypescript/lib/kernel.js:263:37)",
      "    at Session._runNow (/Users/yan/.npm-global-packages/lib/node_modules/itypescript/node_modules/nel/lib/nel.js:796:39)",
      "    at Session._runNext (/Users/yan/.npm-global-packages/lib/node_modules/itypescript/node_modules/nel/lib/nel.js:837:14)",
      "    at Session._onMessage (/Users/yan/.npm-global-packages/lib/node_modules/itypescript/node_modules/nel/lib/nel.js:753:14)",
      "    at ChildProcess.emit (events.js:189:13)",
      "    at emit (internal/child_process.js:820:12)",
      "    at process._tickCallback (internal/process/next_tick.js:63:19)"
     ]
    }
   ],
   "source": [
    "function add<T>(x: T, y: T): T {\n",
    "    return x + y\n",
    "}"
   ]
  },
  {
   "cell_type": "markdown",
   "metadata": {},
   "source": [
    "## 泛型类型\n",
    "\n",
    "#### 声明一个泛型函数类型"
   ]
  },
  {
   "cell_type": "code",
   "execution_count": 5,
   "metadata": {},
   "outputs": [
    {
     "data": {
      "text/plain": [
       "9"
      ]
     },
     "execution_count": 5,
     "metadata": {},
     "output_type": "execute_result"
    }
   ],
   "source": [
    "let myFunc: <T>(x: T) => T = function<U>(m: U): U {\n",
    "    return m\n",
    "}\n",
    "\n",
    "myFunc(9)"
   ]
  },
  {
   "cell_type": "markdown",
   "metadata": {},
   "source": [
    "#### 利用接口进行声明"
   ]
  },
  {
   "cell_type": "code",
   "execution_count": 6,
   "metadata": {},
   "outputs": [
    {
     "data": {
      "text/plain": [
       "9"
      ]
     },
     "execution_count": 6,
     "metadata": {},
     "output_type": "execute_result"
    }
   ],
   "source": [
    "interface GenericsFunc {\n",
    "    <T>(x: T): T\n",
    "}\n",
    "\n",
    "let same: GenericsFunc = function <T>(x: T): T {\n",
    "    return x\n",
    "}\n",
    "\n",
    "same(9)"
   ]
  },
  {
   "cell_type": "markdown",
   "metadata": {},
   "source": [
    "我们也可以将泛型参数当做整个接口的一个参数："
   ]
  },
  {
   "cell_type": "code",
   "execution_count": 7,
   "metadata": {},
   "outputs": [
    {
     "data": {
      "text/plain": [
       "9"
      ]
     },
     "execution_count": 7,
     "metadata": {},
     "output_type": "execute_result"
    }
   ],
   "source": [
    "interface StillGenericsFunc<T> {\n",
    "    (x: T): T\n",
    "}\n",
    "\n",
    "let stillSame: StillGenericsFunc<number> = function <T>(x: T): T {\n",
    "    return x\n",
    "}\n",
    "\n",
    "stillSame(9)"
   ]
  },
  {
   "cell_type": "markdown",
   "metadata": {},
   "source": [
    "## 泛型类\n",
    "\n",
    "泛型类和上边的泛型接口类似，在类名称后边接收一个泛型类型参数。\n",
    "\n",
    "**类的泛型参数只对其实例有效，static 属性不能利用这一特性。**"
   ]
  },
  {
   "cell_type": "code",
   "execution_count": 8,
   "metadata": {},
   "outputs": [
    {
     "name": "stdout",
     "output_type": "stream",
     "text": [
      "12\n"
     ]
    },
    {
     "data": {
      "text/plain": [
       "undefined"
      ]
     },
     "execution_count": 8,
     "metadata": {},
     "output_type": "execute_result"
    }
   ],
   "source": [
    "class GenericNumber<T> {\n",
    "    zeroValue: T\n",
    "    add: (x: T, y: T) => T\n",
    "}\n",
    "\n",
    "let myGenericNumber = new GenericNumber<number>()\n",
    "myGenericNumber.zeroValue = 0\n",
    "myGenericNumber.add = function(x, y) {\n",
    "    return x+y\n",
    "}\n",
    "\n",
    "\n",
    "let stringGenericNumber = new GenericNumber<string>()\n",
    "stringGenericNumber.zeroValue = ''\n",
    "stringGenericNumber.add = function(x, y) {\n",
    "    return x+y\n",
    "}\n",
    "\n",
    "console.log(stringGenericNumber.add('1', '2'))"
   ]
  },
  {
   "cell_type": "markdown",
   "metadata": {},
   "source": [
    "## 泛型约束\n",
    "\n",
    "上边的[泛型变量](#泛型变量)例子提到，对两个泛型类型的对象进行`+`操作符会报错，因为泛型类型没有支持该操作符。相比于任意类型，我们可以约束我们的泛型：只要传入的类型具有某个属性，我们就允许。比如下例，因为泛型缺少迭代协议："
   ]
  },
  {
   "cell_type": "code",
   "execution_count": 9,
   "metadata": {},
   "outputs": [
    {
     "ename": "Error",
     "evalue": "Line 2, Character 19\n    for (let y of x) {}\n__________________^\nTS2488: Type 'T' must have a '[Symbol.iterator]()' method that returns an iterator.",
     "output_type": "error",
     "traceback": [
      "Error: Line 2, Character 19",
      "    for (let y of x) {}",
      "__________________^",
      "TS2488: Type 'T' must have a '[Symbol.iterator]()' method that returns an iterator.",
      "    at execTranspile (/Users/yan/.npm-global-packages/lib/node_modules/itypescript/lib/kernel.js:203:27)",
      "    at Session.transpiler [as transpile] (/Users/yan/.npm-global-packages/lib/node_modules/itypescript/lib/kernel.js:263:37)",
      "    at Session._runNow (/Users/yan/.npm-global-packages/lib/node_modules/itypescript/node_modules/nel/lib/nel.js:796:39)",
      "    at Session._runNext (/Users/yan/.npm-global-packages/lib/node_modules/itypescript/node_modules/nel/lib/nel.js:837:14)",
      "    at Session._onMessage (/Users/yan/.npm-global-packages/lib/node_modules/itypescript/node_modules/nel/lib/nel.js:753:14)",
      "    at ChildProcess.emit (events.js:189:13)",
      "    at emit (internal/child_process.js:820:12)",
      "    at process._tickCallback (internal/process/next_tick.js:63:19)"
     ]
    }
   ],
   "source": [
    "function loopAndReturn<T>(x: T): T {\n",
    "    for (let y of x) {}\n",
    "    return x\n",
    "}"
   ]
  },
  {
   "cell_type": "markdown",
   "metadata": {},
   "source": [
    "#### 我们约束我们的泛型只接受实现了迭代协议的类型"
   ]
  },
  {
   "cell_type": "code",
   "execution_count": 10,
   "metadata": {},
   "outputs": [
    {
     "name": "stdout",
     "output_type": "stream",
     "text": [
      "1\n",
      "2\n",
      "3\n"
     ]
    },
    {
     "data": {
      "text/plain": [
       "[ 1, 2, 3 ]"
      ]
     },
     "execution_count": 10,
     "metadata": {},
     "output_type": "execute_result"
    }
   ],
   "source": [
    "interface Loopable {\n",
    "    [Symbol.iterator]: () => { next: () => { value: any; done: boolean } }\n",
    "}\n",
    "function loopAndReturn<T extends Loopable>(x: T): T {\n",
    "    for (let y of x) {\n",
    "        console.log(y)\n",
    "    }\n",
    "    return x\n",
    "}\n",
    "\n",
    "loopAndReturn([1, 2, 3])"
   ]
  },
  {
   "cell_type": "code",
   "execution_count": 11,
   "metadata": {},
   "outputs": [
    {
     "ename": "Error",
     "evalue": "Line 1, Character 15\nloopAndReturn(9)\n______________^\nTS2345: Argument of type '9' is not assignable to parameter of type 'Loopable'.",
     "output_type": "error",
     "traceback": [
      "Error: Line 1, Character 15",
      "loopAndReturn(9)",
      "______________^",
      "TS2345: Argument of type '9' is not assignable to parameter of type 'Loopable'.",
      "    at execTranspile (/Users/yan/.npm-global-packages/lib/node_modules/itypescript/lib/kernel.js:203:27)",
      "    at Session.transpiler [as transpile] (/Users/yan/.npm-global-packages/lib/node_modules/itypescript/lib/kernel.js:263:37)",
      "    at Session._runNow (/Users/yan/.npm-global-packages/lib/node_modules/itypescript/node_modules/nel/lib/nel.js:796:39)",
      "    at Session._runNext (/Users/yan/.npm-global-packages/lib/node_modules/itypescript/node_modules/nel/lib/nel.js:837:14)",
      "    at Session._onMessage (/Users/yan/.npm-global-packages/lib/node_modules/itypescript/node_modules/nel/lib/nel.js:753:14)",
      "    at ChildProcess.emit (events.js:189:13)",
      "    at emit (internal/child_process.js:820:12)",
      "    at process._tickCallback (internal/process/next_tick.js:63:19)"
     ]
    }
   ],
   "source": [
    "loopAndReturn(9)"
   ]
  },
  {
   "cell_type": "markdown",
   "metadata": {},
   "source": [
    "#### 在泛型约束中使用类型参数\n",
    "\n",
    "使用一个泛型来约束另一个泛型："
   ]
  },
  {
   "cell_type": "code",
   "execution_count": 12,
   "metadata": {},
   "outputs": [
    {
     "data": {
      "text/plain": [
       "1"
      ]
     },
     "execution_count": 12,
     "metadata": {},
     "output_type": "execute_result"
    }
   ],
   "source": [
    "function getValue<T, K extends keyof T>(obj: T, key: K) {\n",
    "    return obj[key]\n",
    "}\n",
    "\n",
    "let obj = {\n",
    "    a: 1,\n",
    "    b: 2,\n",
    "}\n",
    "getValue(obj, 'a')"
   ]
  },
  {
   "cell_type": "code",
   "execution_count": 13,
   "metadata": {},
   "outputs": [
    {
     "ename": "Error",
     "evalue": "Line 1, Character 15\ngetValue(obj, 'x')\n______________^\nTS2345: Argument of type '\"x\"' is not assignable to parameter of type '\"a\" | \"b\"'.",
     "output_type": "error",
     "traceback": [
      "Error: Line 1, Character 15",
      "getValue(obj, 'x')",
      "______________^",
      "TS2345: Argument of type '\"x\"' is not assignable to parameter of type '\"a\" | \"b\"'.",
      "    at execTranspile (/Users/yan/.npm-global-packages/lib/node_modules/itypescript/lib/kernel.js:203:27)",
      "    at Session.transpiler [as transpile] (/Users/yan/.npm-global-packages/lib/node_modules/itypescript/lib/kernel.js:263:37)",
      "    at Session._runNow (/Users/yan/.npm-global-packages/lib/node_modules/itypescript/node_modules/nel/lib/nel.js:796:39)",
      "    at Session._runNext (/Users/yan/.npm-global-packages/lib/node_modules/itypescript/node_modules/nel/lib/nel.js:837:14)",
      "    at Session._onMessage (/Users/yan/.npm-global-packages/lib/node_modules/itypescript/node_modules/nel/lib/nel.js:753:14)",
      "    at ChildProcess.emit (events.js:189:13)",
      "    at emit (internal/child_process.js:820:12)",
      "    at process._tickCallback (internal/process/next_tick.js:63:19)"
     ]
    }
   ],
   "source": [
    "getValue(obj, 'x')"
   ]
  }
 ],
 "metadata": {
  "kernelspec": {
   "display_name": "Typescript 3.4",
   "language": "typescript",
   "name": "typescript"
  },
  "language_info": {
   "file_extension": ".ts",
   "mimetype": "application/x-typescript",
   "name": "typescript",
   "version": "3.4.4"
  }
 },
 "nbformat": 4,
 "nbformat_minor": 2
}
