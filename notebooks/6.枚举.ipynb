{
 "cells": [
  {
   "cell_type": "markdown",
   "metadata": {},
   "source": [
    "# 枚举\n",
    "\n",
    "- 数字枚举\n",
    "- 字符串枚举\n",
    "\n",
    "## 数字枚举\n",
    "\n",
    "默认第一项为 0，后边递增"
   ]
  },
  {
   "cell_type": "code",
   "execution_count": 1,
   "metadata": {},
   "outputs": [
    {
     "data": {
      "text/plain": [
       "undefined"
      ]
     },
     "execution_count": 1,
     "metadata": {},
     "output_type": "execute_result"
    }
   ],
   "source": [
    "enum Color {\n",
    "    Red,      // 0\n",
    "    Green,    // 1\n",
    "    Blue,     // 2\n",
    "}\n",
    "\n",
    "enum Sex {\n",
    "    Man = 1,  // 1\n",
    "    Woman,    // 2\n",
    "}"
   ]
  },
  {
   "cell_type": "markdown",
   "metadata": {},
   "source": [
    "编译为 JavaScript 的结果为：\n",
    "\n",
    "```js\n",
    "var Color;\n",
    "(function (Color) {\n",
    "    Color[Color[\"Red\"] = 0] = \"Red\";\n",
    "    Color[Color[\"Green\"] = 1] = \"Green\";\n",
    "    Color[Color[\"Blue\"] = 2] = \"Blue\";\n",
    "})(Color || (Color = {}));\n",
    "\n",
    "var Sex;\n",
    "(function (Sex) {\n",
    "    Sex[Sex[\"Man\"] = 1] = \"Man\";\n",
    "    Sex[Sex[\"Woman\"] = 2] = \"Woman\";\n",
    "})(Sex || (Sex = {}));\n",
    "```\n",
    "\n",
    "#### 注意下边的枚举：\n",
    "\n",
    "两个枚举成员可以具有同一个值，但是实际代码中应该没什么用。"
   ]
  },
  {
   "cell_type": "code",
   "execution_count": 2,
   "metadata": {},
   "outputs": [
    {
     "name": "stdout",
     "output_type": "stream",
     "text": [
      "{ '1': 'Low', '2': 'High', Low: 1, Middle: 2, High: 2 }\n"
     ]
    },
    {
     "data": {
      "text/plain": [
       "undefined"
      ]
     },
     "execution_count": 2,
     "metadata": {},
     "output_type": "execute_result"
    }
   ],
   "source": [
    "enum Level {\n",
    "    Low = 1,      // 1\n",
    "    Middle,       // 2\n",
    "    High = 2,     // 2\n",
    "}\n",
    "\n",
    "console.log(Level)"
   ]
  },
  {
   "cell_type": "markdown",
   "metadata": {},
   "source": [
    "## 字符串枚举\n",
    "\n",
    "字符串枚举需要用字符串字面量，或者另一个字符串枚举成员来进行初始化。字符串枚举的好处就是（运行、调试时）可读性更好。"
   ]
  },
  {
   "cell_type": "code",
   "execution_count": 4,
   "metadata": {},
   "outputs": [
    {
     "name": "stdout",
     "output_type": "stream",
     "text": [
      "0\n",
      "FILE\n"
     ]
    },
    {
     "data": {
      "text/plain": [
       "undefined"
      ]
     },
     "execution_count": 4,
     "metadata": {},
     "output_type": "execute_result"
    }
   ],
   "source": [
    "enum MessageType {\n",
    "    FILE = 'FILE',\n",
    "    IMAGE = 'IMAGE',\n",
    "    VIDEO = 'VIDEO',\n",
    "}\n",
    "\n",
    "console.log(Color.Red)\n",
    "console.log(MessageType.FILE)"
   ]
  },
  {
   "cell_type": "markdown",
   "metadata": {},
   "source": [
    "## 常量与计算成员\n",
    "\n",
    "每一个枚举成员都有一个值。要么是常量，要么是计算值。以下几种情况为常量成员：\n",
    "\n",
    "- 是枚举的第一个成员且未被初始化。它的值为常量 0.\n",
    "- 未被初始化，且它的上一个成员是一个数字成员。此时他的值为上一个成员值+1.\n",
    "- 使用常量枚举表达式初始化：\n",
    "    - 一个枚举表达式字面量（数字或字符串）\n",
    "    - 对之前定义的枚举成员的引用\n",
    "    - 带括号的常量枚举表达式\n",
    "    - 应用`+、-、~`一元运算符的常量枚举表达式\n",
    "    - 应用`+、-、<<、>>、|、&`等二元运算符的常量枚举表达式。若运算结果为`NaN`或者`Infinity`，会出现编译错误。\n",
    "    \n",
    "其他情况视为计算成员"
   ]
  },
  {
   "cell_type": "code",
   "execution_count": 6,
   "metadata": {},
   "outputs": [
    {
     "data": {
      "text/plain": [
       "undefined"
      ]
     },
     "execution_count": 6,
     "metadata": {},
     "output_type": "execute_result"
    }
   ],
   "source": [
    "enum Demo {\n",
    "    // 常量成员\n",
    "    A,\n",
    "    B = 2,\n",
    "    C,\n",
    "    D = -1,\n",
    "    E = 1+2,\n",
    "    // 计算成员\n",
    "    F = 'ABC'.length,\n",
    "}"
   ]
  },
  {
   "cell_type": "markdown",
   "metadata": {},
   "source": [
    "## 字面量枚举成员：\n",
    "\n",
    "- 不带有初始化的枚举成员\n",
    "- 初始化为数字、字符串、符号(`-`)数字\n",
    "\n",
    "当一个枚举的所有成员都是字面量枚举成员时：\n",
    "\n",
    "#### 枚举成员可以当做类型使用："
   ]
  },
  {
   "cell_type": "code",
   "execution_count": 7,
   "metadata": {},
   "outputs": [
    {
     "ename": "Error",
     "evalue": "Line 11, Character 5\n    kind: Shape.Square\n____^\nTS2322: Type 'Shape.Square' is not assignable to type 'Shape.Circle'.",
     "output_type": "error",
     "traceback": [
      "Error: Line 11, Character 5",
      "    kind: Shape.Square",
      "____^",
      "TS2322: Type 'Shape.Square' is not assignable to type 'Shape.Circle'.",
      "    at execTranspile (/Users/yan/.npm-global-packages/lib/node_modules/itypescript/lib/kernel.js:203:27)",
      "    at Session.transpiler [as transpile] (/Users/yan/.npm-global-packages/lib/node_modules/itypescript/lib/kernel.js:263:37)",
      "    at Session._runNow (/Users/yan/.npm-global-packages/lib/node_modules/itypescript/node_modules/nel/lib/nel.js:796:39)",
      "    at Session._run (/Users/yan/.npm-global-packages/lib/node_modules/itypescript/node_modules/nel/lib/nel.js:766:14)",
      "    at Session.execute (/Users/yan/.npm-global-packages/lib/node_modules/itypescript/node_modules/nel/lib/nel.js:890:10)",
      "    at Kernel.execute_request (/Users/yan/.npm-global-packages/lib/node_modules/itypescript/node_modules/jp-kernel/lib/handlers_v5.js:116:18)",
      "    at Kernel.onShellMessage (/Users/yan/.npm-global-packages/lib/node_modules/itypescript/node_modules/jp-kernel/lib/jp-kernel.js:285:41)",
      "    at Socket.<anonymous> (/Users/yan/.npm-global-packages/lib/node_modules/itypescript/node_modules/jmp/index.js:350:17)",
      "    at Socket.emit (events.js:189:13)",
      "    at Socket._emitMessage (/Users/yan/.npm-global-packages/lib/node_modules/itypescript/node_modules/zeromq/lib/index.js:640:15)"
     ]
    }
   ],
   "source": [
    "enum Shape {\n",
    "    Circle,\n",
    "    Square,\n",
    "}\n",
    "\n",
    "interface Circle {\n",
    "    kind: Shape.Circle\n",
    "}\n",
    "\n",
    "let circle: Circle =  {\n",
    "    kind: Shape.Square\n",
    "}"
   ]
  },
  {
   "cell_type": "markdown",
   "metadata": {},
   "source": [
    "#### 枚举类型本身成为了所有成员的联合类型"
   ]
  },
  {
   "cell_type": "code",
   "execution_count": 8,
   "metadata": {},
   "outputs": [
    {
     "data": {
      "text/plain": [
       "undefined"
      ]
     },
     "execution_count": 8,
     "metadata": {},
     "output_type": "execute_result"
    }
   ],
   "source": [
    "enum Unioned {\n",
    "    A = 1,\n",
    "    B = 'hello'\n",
    "}\n",
    "\n",
    "// 这里，Unioned 类型为 Unioned.A 与 Unioned.B 的 union 类型\n",
    "\n",
    "function f(x: Unioned) {\n",
    "    // valueOf Unioned 类型的属性\n",
    "    console.log(x.valueOf())\n",
    "}"
   ]
  },
  {
   "cell_type": "code",
   "execution_count": 9,
   "metadata": {},
   "outputs": [
    {
     "ename": "Error",
     "evalue": "Line 2, Character 19\n    console.log(x.length)\n__________________^\nTS2339: Property 'length' does not exist on type 'Unioned'.",
     "output_type": "error",
     "traceback": [
      "Error: Line 2, Character 19",
      "    console.log(x.length)",
      "__________________^",
      "TS2339: Property 'length' does not exist on type 'Unioned'.",
      "    at execTranspile (/Users/yan/.npm-global-packages/lib/node_modules/itypescript/lib/kernel.js:203:27)",
      "    at Session.transpiler [as transpile] (/Users/yan/.npm-global-packages/lib/node_modules/itypescript/lib/kernel.js:263:37)",
      "    at Session._runNow (/Users/yan/.npm-global-packages/lib/node_modules/itypescript/node_modules/nel/lib/nel.js:796:39)",
      "    at Session._run (/Users/yan/.npm-global-packages/lib/node_modules/itypescript/node_modules/nel/lib/nel.js:766:14)",
      "    at Session.execute (/Users/yan/.npm-global-packages/lib/node_modules/itypescript/node_modules/nel/lib/nel.js:890:10)",
      "    at Kernel.execute_request (/Users/yan/.npm-global-packages/lib/node_modules/itypescript/node_modules/jp-kernel/lib/handlers_v5.js:116:18)",
      "    at Kernel.onShellMessage (/Users/yan/.npm-global-packages/lib/node_modules/itypescript/node_modules/jp-kernel/lib/jp-kernel.js:285:41)",
      "    at Socket.<anonymous> (/Users/yan/.npm-global-packages/lib/node_modules/itypescript/node_modules/jmp/index.js:350:17)",
      "    at Socket.emit (events.js:189:13)",
      "    at Socket._emitMessage (/Users/yan/.npm-global-packages/lib/node_modules/itypescript/node_modules/zeromq/lib/index.js:640:15)"
     ]
    }
   ],
   "source": [
    "function g(x: Unioned) {\n",
    "    // length 不是 Unioned 类型的属性\n",
    "    console.log(x.length)\n",
    "}"
   ]
  },
  {
   "cell_type": "markdown",
   "metadata": {},
   "source": [
    "## 反向映射\n",
    "\n",
    "枚举可以根据成员获取值，也可以根据值获取成员："
   ]
  },
  {
   "cell_type": "code",
   "execution_count": 11,
   "metadata": {},
   "outputs": [
    {
     "name": "stdout",
     "output_type": "stream",
     "text": [
      "0\n",
      "Red\n"
     ]
    },
    {
     "data": {
      "text/plain": [
       "undefined"
      ]
     },
     "execution_count": 11,
     "metadata": {},
     "output_type": "execute_result"
    }
   ],
   "source": [
    "let red: Color = Color.Red\n",
    "\n",
    "console.log(red)\n",
    "\n",
    "let redMember = Color[red]\n",
    "\n",
    "console.log(redMember)"
   ]
  },
  {
   "cell_type": "markdown",
   "metadata": {},
   "source": [
    "**字符串枚举不能反向映射**"
   ]
  },
  {
   "cell_type": "markdown",
   "metadata": {},
   "source": [
    "## const 枚举\n",
    "\n",
    "为了避免运行时生成对象，可以使用 const 枚举，const 枚举在编译时会被编译为行内值，在运行时不存在该枚举对象。"
   ]
  },
  {
   "cell_type": "code",
   "execution_count": null,
   "metadata": {},
   "outputs": [],
   "source": [
    "const enum Creature {\n",
    "    Animal,\n",
    "    Plant,\n",
    "}\n",
    "\n",
    "let array: Creature[] = [Creature.Animal, Creature.Plant]"
   ]
  },
  {
   "cell_type": "markdown",
   "metadata": {},
   "source": [
    "s例编译后的代码为与上边 `Color` 枚举的对比：\n",
    "```js\n",
    "var array = [0 /* Animal */, 1 /* Plant */];\n",
    "\n",
    "```"
   ]
  }
 ],
 "metadata": {
  "kernelspec": {
   "display_name": "Typescript 3.4",
   "language": "typescript",
   "name": "typescript"
  },
  "language_info": {
   "file_extension": ".ts",
   "mimetype": "application/x-typescript",
   "name": "typescript",
   "version": "3.4.4"
  }
 },
 "nbformat": 4,
 "nbformat_minor": 2
}
