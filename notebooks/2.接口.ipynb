{
 "cells": [
  {
   "cell_type": "markdown",
   "metadata": {},
   "source": [
    "# 接口\n",
    "\n",
    "TypeScript 用值的**形状（Shape）**来进行类型检查，接口用来描述这些**类型**。"
   ]
  },
  {
   "cell_type": "code",
   "execution_count": 1,
   "metadata": {},
   "outputs": [
    {
     "name": "stdout",
     "output_type": "stream",
     "text": [
      "Size 10 Object\n"
     ]
    },
    {
     "data": {
      "text/plain": [
       "undefined"
      ]
     },
     "execution_count": 1,
     "metadata": {},
     "output_type": "execute_result"
    }
   ],
   "source": [
    "interface LabeledValue {\n",
    "    label: string\n",
    "}\n",
    "\n",
    "function printLabel(labeledObj: LabeledValue) {\n",
    "    console.log(labeledObj.label)\n",
    "}\n",
    "\n",
    "let myObj = {label: 'Size 10 Object', size: 10}\n",
    "\n",
    "printLabel(myObj)"
   ]
  },
  {
   "cell_type": "markdown",
   "metadata": {},
   "source": [
    "*注意 `myObj` 含有不在 `LabeledValue` 接口定义内的额外属性*"
   ]
  },
  {
   "cell_type": "markdown",
   "metadata": {},
   "source": [
    "## 可选属性"
   ]
  },
  {
   "cell_type": "code",
   "execution_count": 2,
   "metadata": {},
   "outputs": [
    {
     "name": "stdout",
     "output_type": "stream",
     "text": [
      "{ color: 'white', area: 225 }\n"
     ]
    },
    {
     "data": {
      "text/plain": [
       "undefined"
      ]
     },
     "execution_count": 2,
     "metadata": {},
     "output_type": "execute_result"
    }
   ],
   "source": [
    "interface SquareConfig {\n",
    "    color?: string\n",
    "    width: number\n",
    "}\n",
    "\n",
    "interface Square {\n",
    "    color?: string\n",
    "    area: number\n",
    "}\n",
    "\n",
    "function createSquare(config: SquareConfig): Square {\n",
    "    let newSquare: Square = {\n",
    "        color: 'white',\n",
    "        area: config.width ** 2,\n",
    "    }\n",
    "    if (config.color) {\n",
    "        newSquare.color = config.color\n",
    "    }\n",
    "    return newSquare\n",
    "}\n",
    "\n",
    "let square: Square = createSquare({width: 15})\n",
    "console.log(square)"
   ]
  },
  {
   "cell_type": "markdown",
   "metadata": {},
   "source": [
    "## 只读属性"
   ]
  },
  {
   "cell_type": "code",
   "execution_count": 3,
   "metadata": {},
   "outputs": [
    {
     "data": {
      "text/plain": [
       "undefined"
      ]
     },
     "execution_count": 3,
     "metadata": {},
     "output_type": "execute_result"
    }
   ],
   "source": [
    "interface Point {\n",
    "    readonly x: number\n",
    "    readonly y: number\n",
    "}\n",
    "\n",
    "let point: Point = {\n",
    "    x: 10,\n",
    "    y: 10,\n",
    "}"
   ]
  },
  {
   "cell_type": "code",
   "execution_count": 4,
   "metadata": {
    "scrolled": true
   },
   "outputs": [
    {
     "ename": "Error",
     "evalue": "Line 1, Character 7\npoint.x = 20\n______^\nTS2540: Cannot assign to 'x' because it is a read-only property.",
     "output_type": "error",
     "traceback": [
      "Error: Line 1, Character 7",
      "point.x = 20",
      "______^",
      "TS2540: Cannot assign to 'x' because it is a read-only property.",
      "    at execTranspile (/Users/yan/.npm-global-packages/lib/node_modules/itypescript/lib/kernel.js:203:27)",
      "    at Session.transpiler [as transpile] (/Users/yan/.npm-global-packages/lib/node_modules/itypescript/lib/kernel.js:263:37)",
      "    at Session._runNow (/Users/yan/.npm-global-packages/lib/node_modules/itypescript/node_modules/nel/lib/nel.js:796:39)",
      "    at Session._runNext (/Users/yan/.npm-global-packages/lib/node_modules/itypescript/node_modules/nel/lib/nel.js:837:14)",
      "    at Session._onMessage (/Users/yan/.npm-global-packages/lib/node_modules/itypescript/node_modules/nel/lib/nel.js:753:14)",
      "    at ChildProcess.emit (events.js:182:13)",
      "    at emit (internal/child_process.js:812:12)",
      "    at process._tickCallback (internal/process/next_tick.js:63:19)"
     ]
    }
   ],
   "source": [
    "point.x = 20"
   ]
  },
  {
   "cell_type": "markdown",
   "metadata": {},
   "source": [
    "#### `ReadonlyArray<T>`\n",
    "\n",
    "`ReadonlyArray<T>` 和 `Array<T>` 一样，但是没有任何修改方法。数组被创建后将不能被修改。"
   ]
  },
  {
   "cell_type": "code",
   "execution_count": 5,
   "metadata": {},
   "outputs": [
    {
     "data": {
      "text/plain": [
       "undefined"
      ]
     },
     "execution_count": 5,
     "metadata": {},
     "output_type": "execute_result"
    }
   ],
   "source": [
    "let readonlyArray: ReadonlyArray<number> = [1, 2, 3, 4]"
   ]
  },
  {
   "cell_type": "code",
   "execution_count": 6,
   "metadata": {},
   "outputs": [
    {
     "ename": "Error",
     "evalue": "Line 1, Character 1\nreadonlyArray[0] = 9\n^\nTS2542: Index signature in type 'readonly number[]' only permits reading.",
     "output_type": "error",
     "traceback": [
      "Error: Line 1, Character 1",
      "readonlyArray[0] = 9",
      "^",
      "TS2542: Index signature in type 'readonly number[]' only permits reading.",
      "    at execTranspile (/Users/yan/.npm-global-packages/lib/node_modules/itypescript/lib/kernel.js:203:27)",
      "    at Session.transpiler [as transpile] (/Users/yan/.npm-global-packages/lib/node_modules/itypescript/lib/kernel.js:263:37)",
      "    at Session._runNow (/Users/yan/.npm-global-packages/lib/node_modules/itypescript/node_modules/nel/lib/nel.js:796:39)",
      "    at Session._runNext (/Users/yan/.npm-global-packages/lib/node_modules/itypescript/node_modules/nel/lib/nel.js:837:14)",
      "    at Session._onMessage (/Users/yan/.npm-global-packages/lib/node_modules/itypescript/node_modules/nel/lib/nel.js:753:14)",
      "    at ChildProcess.emit (events.js:182:13)",
      "    at emit (internal/child_process.js:812:12)",
      "    at process._tickCallback (internal/process/next_tick.js:63:19)"
     ]
    }
   ],
   "source": [
    "readonlyArray[0] = 9"
   ]
  },
  {
   "cell_type": "markdown",
   "metadata": {},
   "source": [
    "不能将只读数组再转化为普通数组："
   ]
  },
  {
   "cell_type": "code",
   "execution_count": 7,
   "metadata": {},
   "outputs": [
    {
     "ename": "Error",
     "evalue": "Line 1, Character 5\nlet array: number[] = readonlyArray\n____^\nTS2740: Type 'readonly number[]' is missing the following properties from type 'number[]': pop, push, reverse, shift, and 6 more.",
     "output_type": "error",
     "traceback": [
      "Error: Line 1, Character 5",
      "let array: number[] = readonlyArray",
      "____^",
      "TS2740: Type 'readonly number[]' is missing the following properties from type 'number[]': pop, push, reverse, shift, and 6 more.",
      "    at execTranspile (/Users/yan/.npm-global-packages/lib/node_modules/itypescript/lib/kernel.js:203:27)",
      "    at Session.transpiler [as transpile] (/Users/yan/.npm-global-packages/lib/node_modules/itypescript/lib/kernel.js:263:37)",
      "    at Session._runNow (/Users/yan/.npm-global-packages/lib/node_modules/itypescript/node_modules/nel/lib/nel.js:796:39)",
      "    at Session._runNext (/Users/yan/.npm-global-packages/lib/node_modules/itypescript/node_modules/nel/lib/nel.js:837:14)",
      "    at Session._onMessage (/Users/yan/.npm-global-packages/lib/node_modules/itypescript/node_modules/nel/lib/nel.js:753:14)",
      "    at Session._runNow (/Users/yan/.npm-global-packages/lib/node_modules/itypescript/node_modules/nel/lib/nel.js:800:18)",
      "    at Session._runNext (/Users/yan/.npm-global-packages/lib/node_modules/itypescript/node_modules/nel/lib/nel.js:837:14)",
      "    at Session._onMessage (/Users/yan/.npm-global-packages/lib/node_modules/itypescript/node_modules/nel/lib/nel.js:753:14)",
      "    at ChildProcess.emit (events.js:182:13)",
      "    at emit (internal/child_process.js:812:12)"
     ]
    }
   ],
   "source": [
    "let array: number[] = readonlyArray"
   ]
  },
  {
   "cell_type": "markdown",
   "metadata": {},
   "source": [
    "除非进行强制类型断言"
   ]
  },
  {
   "cell_type": "code",
   "execution_count": 8,
   "metadata": {},
   "outputs": [
    {
     "name": "stdout",
     "output_type": "stream",
     "text": [
      "[ 1, 2, 3, 4 ]\n"
     ]
    },
    {
     "data": {
      "text/plain": [
       "undefined"
      ]
     },
     "execution_count": 8,
     "metadata": {},
     "output_type": "execute_result"
    }
   ],
   "source": [
    "let array: number[] = readonlyArray as number[]\n",
    "console.log(array)"
   ]
  },
  {
   "cell_type": "markdown",
   "metadata": {},
   "source": [
    "## 额外检查\n",
    "\n",
    "注意我们前边的第一个接口例子，我们的 `myObj` 有接口定义的额外属性，但是代码正常运行。但是如果我们将**对象字面量**作为参数传递给函数，函数将会报错："
   ]
  },
  {
   "cell_type": "code",
   "execution_count": 9,
   "metadata": {},
   "outputs": [
    {
     "ename": "Error",
     "evalue": "Line 3, Character 5\n    size: 10,\n____^\nTS2345: Argument of type '{ label: string; size: number; }' is not assignable to parameter of type 'LabeledValue'.\n  Object literal may only specify known properties, and 'size' does not exist in type 'LabeledValue'.",
     "output_type": "error",
     "traceback": [
      "Error: Line 3, Character 5",
      "    size: 10,",
      "____^",
      "TS2345: Argument of type '{ label: string; size: number; }' is not assignable to parameter of type 'LabeledValue'.",
      "  Object literal may only specify known properties, and 'size' does not exist in type 'LabeledValue'.",
      "    at execTranspile (/Users/yan/.npm-global-packages/lib/node_modules/itypescript/lib/kernel.js:203:27)",
      "    at Session.transpiler [as transpile] (/Users/yan/.npm-global-packages/lib/node_modules/itypescript/lib/kernel.js:263:37)",
      "    at Session._runNow (/Users/yan/.npm-global-packages/lib/node_modules/itypescript/node_modules/nel/lib/nel.js:796:39)",
      "    at Session._runNext (/Users/yan/.npm-global-packages/lib/node_modules/itypescript/node_modules/nel/lib/nel.js:837:14)",
      "    at Session._onMessage (/Users/yan/.npm-global-packages/lib/node_modules/itypescript/node_modules/nel/lib/nel.js:753:14)",
      "    at ChildProcess.emit (events.js:182:13)",
      "    at emit (internal/child_process.js:812:12)",
      "    at process._tickCallback (internal/process/next_tick.js:63:19)"
     ]
    }
   ],
   "source": [
    "printLabel({\n",
    "    label: 'Size 10 Object', \n",
    "    size: 10,\n",
    "})"
   ]
  },
  {
   "cell_type": "markdown",
   "metadata": {},
   "source": [
    "TypeScript 抱怨说 `LabeledValue` 不包含 `size` 属性。**如果对象字面量包含任何目标类型不包含的属性，使用该对象字面量进行对象赋值、传参都会报错。**\n",
    "\n",
    "解决这个问题的方法很简单，除了上边的将对象字面量赋值给另一个变量，还可以：\n",
    "\n",
    "1. 使用类型断言："
   ]
  },
  {
   "cell_type": "code",
   "execution_count": 10,
   "metadata": {},
   "outputs": [
    {
     "name": "stdout",
     "output_type": "stream",
     "text": [
      "{ color: 'black', area: 100 }\n"
     ]
    },
    {
     "data": {
      "text/plain": [
       "undefined"
      ]
     },
     "execution_count": 10,
     "metadata": {},
     "output_type": "execute_result"
    }
   ],
   "source": [
    "let square2 = createSquare({\n",
    "    color: 'black', \n",
    "    width: 10, \n",
    "    radius: 5,\n",
    "} as SquareConfig)\n",
    "\n",
    "console.log(square2)"
   ]
  },
  {
   "cell_type": "markdown",
   "metadata": {},
   "source": [
    "2. 但是如果确定该对象会有更多额外的属性，更好的方法是使用**字符串索引签名**："
   ]
  },
  {
   "cell_type": "code",
   "execution_count": 11,
   "metadata": {},
   "outputs": [
    {
     "name": "stdout",
     "output_type": "stream",
     "text": [
      "{ color: 'black', area: 100 }\n"
     ]
    },
    {
     "data": {
      "text/plain": [
       "undefined"
      ]
     },
     "execution_count": 11,
     "metadata": {},
     "output_type": "execute_result"
    }
   ],
   "source": [
    "interface SquareConfig {\n",
    "    color?: string;\n",
    "    width: number;\n",
    "    [propName: string]: any;\n",
    "}\n",
    "let square3 = createSquare({\n",
    "    color: 'black', \n",
    "    width: 10, \n",
    "    radius: 5,\n",
    "})\n",
    "\n",
    "console.log(square3)"
   ]
  },
  {
   "cell_type": "markdown",
   "metadata": {},
   "source": [
    "如非必要，尽量不要绕过这些检查，而应该通过修改 interface 定义来修复这些报错。"
   ]
  },
  {
   "cell_type": "markdown",
   "metadata": {},
   "source": [
    "## 函数类型\n",
    "\n",
    "接口除了能定义对象形状外，还可以描述函数类型："
   ]
  },
  {
   "cell_type": "code",
   "execution_count": 12,
   "metadata": {},
   "outputs": [
    {
     "name": "stdout",
     "output_type": "stream",
     "text": [
      "true\n"
     ]
    },
    {
     "data": {
      "text/plain": [
       "undefined"
      ]
     },
     "execution_count": 12,
     "metadata": {},
     "output_type": "execute_result"
    }
   ],
   "source": [
    "interface SearchFunc {\n",
    "    (source: string, subString: string): boolean\n",
    "}\n",
    "\n",
    "let mySearch: SearchFunc\n",
    "mySearch = function(src: string, sub: string) {\n",
    "    let result = src.includes(sub)\n",
    "    return result\n",
    "}\n",
    "\n",
    "// 当然指定了函数类型后不一定需要指定参数类型，因为 `SearchFunc` 类型接口以及指定了参数类型。\n",
    "mySearch = function(src, sub) {\n",
    "    let result = src.includes(sub)\n",
    "    return result\n",
    "}\n",
    "\n",
    "console.log(mySearch('hello', 'el'))"
   ]
  },
  {
   "cell_type": "markdown",
   "metadata": {},
   "source": [
    "## 可索引类型\n",
    "\n",
    "TypeScript 也可以定义能够索引的类型。如上边的字符串索引，以及数组的数字索引。\n",
    "\n",
    "下边的接口说明：`StringArray` 类型使用数字进行索引时，会返回一个字符串。"
   ]
  },
  {
   "cell_type": "code",
   "execution_count": 13,
   "metadata": {},
   "outputs": [
    {
     "data": {
      "text/plain": [
       "undefined"
      ]
     },
     "execution_count": 13,
     "metadata": {},
     "output_type": "execute_result"
    }
   ],
   "source": [
    "interface StringArray {\n",
    "    [index: number]: string\n",
    "}\n",
    "\n",
    "let myArray: StringArray = ['Luke', 'Leia']"
   ]
  },
  {
   "cell_type": "markdown",
   "metadata": {},
   "source": [
    "可以有 `string` 和 `number` 两种作为索引签名，**但是 `number` 索引返回的类型必须是 `string` 索引返回类型的子类型。因为 JavaScript 在进行索引时会将 `number` 类型的转换为 `string` 类型的。**"
   ]
  },
  {
   "cell_type": "code",
   "execution_count": 14,
   "metadata": {},
   "outputs": [
    {
     "data": {
      "text/plain": [
       "undefined"
      ]
     },
     "execution_count": 14,
     "metadata": {},
     "output_type": "execute_result"
    }
   ],
   "source": [
    "class Animal {\n",
    "    name: string\n",
    "}\n",
    "\n",
    "class Dog extends Animal {\n",
    "    breed: string\n",
    "}\n",
    "\n",
    "// OK\n",
    "interface Indexable {\n",
    "    [index: number]: Dog\n",
    "    [index: string]: Animal\n",
    "}"
   ]
  },
  {
   "cell_type": "code",
   "execution_count": 15,
   "metadata": {},
   "outputs": [
    {
     "ename": "Error",
     "evalue": "Line 3, Character 5\n    [index: number]: Animal\n____^\nTS2413: Numeric index type 'Animal' is not assignable to string index type 'Dog'.",
     "output_type": "error",
     "traceback": [
      "Error: Line 3, Character 5",
      "    [index: number]: Animal",
      "____^",
      "TS2413: Numeric index type 'Animal' is not assignable to string index type 'Dog'.",
      "    at execTranspile (/Users/yan/.npm-global-packages/lib/node_modules/itypescript/lib/kernel.js:203:27)",
      "    at Session.transpiler [as transpile] (/Users/yan/.npm-global-packages/lib/node_modules/itypescript/lib/kernel.js:263:37)",
      "    at Session._runNow (/Users/yan/.npm-global-packages/lib/node_modules/itypescript/node_modules/nel/lib/nel.js:796:39)",
      "    at Session._runNext (/Users/yan/.npm-global-packages/lib/node_modules/itypescript/node_modules/nel/lib/nel.js:837:14)",
      "    at Session._onMessage (/Users/yan/.npm-global-packages/lib/node_modules/itypescript/node_modules/nel/lib/nel.js:753:14)",
      "    at ChildProcess.emit (events.js:182:13)",
      "    at emit (internal/child_process.js:812:12)",
      "    at process._tickCallback (internal/process/next_tick.js:63:19)"
     ]
    }
   ],
   "source": [
    "// Not OK\n",
    "interface NotIndexable {\n",
    "    [index: number]: Animal\n",
    "    [index: string]: Dog\n",
    "}"
   ]
  },
  {
   "cell_type": "markdown",
   "metadata": {},
   "source": [
    "字符串索引类型可以描述一个字典类型，但它也同时指定了所有属性的返回类型。如下例，`name` 属性的返回类型不符合 `index` 的返回类型"
   ]
  },
  {
   "cell_type": "code",
   "execution_count": 16,
   "metadata": {},
   "outputs": [
    {
     "ename": "Error",
     "evalue": "Line 2, Character 5\n    name: string\n____^\nTS2411: Property 'name' of type 'string' is not assignable to string index type 'number'.",
     "output_type": "error",
     "traceback": [
      "Error: Line 2, Character 5",
      "    name: string",
      "____^",
      "TS2411: Property 'name' of type 'string' is not assignable to string index type 'number'.",
      "    at execTranspile (/Users/yan/.npm-global-packages/lib/node_modules/itypescript/lib/kernel.js:203:27)",
      "    at Session.transpiler [as transpile] (/Users/yan/.npm-global-packages/lib/node_modules/itypescript/lib/kernel.js:263:37)",
      "    at Session._runNow (/Users/yan/.npm-global-packages/lib/node_modules/itypescript/node_modules/nel/lib/nel.js:796:39)",
      "    at Session._runNext (/Users/yan/.npm-global-packages/lib/node_modules/itypescript/node_modules/nel/lib/nel.js:837:14)",
      "    at Session._onMessage (/Users/yan/.npm-global-packages/lib/node_modules/itypescript/node_modules/nel/lib/nel.js:753:14)",
      "    at Session._runNow (/Users/yan/.npm-global-packages/lib/node_modules/itypescript/node_modules/nel/lib/nel.js:800:18)",
      "    at Session._runNext (/Users/yan/.npm-global-packages/lib/node_modules/itypescript/node_modules/nel/lib/nel.js:837:14)",
      "    at Session._onMessage (/Users/yan/.npm-global-packages/lib/node_modules/itypescript/node_modules/nel/lib/nel.js:753:14)",
      "    at ChildProcess.emit (events.js:182:13)",
      "    at emit (internal/child_process.js:812:12)"
     ]
    }
   ],
   "source": [
    "interface NotNumberDictionary {\n",
    "    name: string\n",
    "    [index: string]: number\n",
    "}"
   ]
  },
  {
   "cell_type": "markdown",
   "metadata": {},
   "source": [
    "可以声明为 `any` 类型的"
   ]
  },
  {
   "cell_type": "code",
   "execution_count": 17,
   "metadata": {},
   "outputs": [
    {
     "name": "stdout",
     "output_type": "stream",
     "text": [
      "{ name: 'Oxford', pages: 678 }\n"
     ]
    },
    {
     "data": {
      "text/plain": [
       "undefined"
      ]
     },
     "execution_count": 17,
     "metadata": {},
     "output_type": "execute_result"
    }
   ],
   "source": [
    "interface NumberDictionary {\n",
    "    name: string\n",
    "    [index: string]: any\n",
    "}\n",
    "\n",
    "let nd: NumberDictionary = {\n",
    "    name: 'Oxford',\n",
    "    pages: 678,\n",
    "}\n",
    "\n",
    "console.log(nd)"
   ]
  },
  {
   "cell_type": "markdown",
   "metadata": {},
   "source": [
    "可以声明 `readonly`"
   ]
  },
  {
   "cell_type": "code",
   "execution_count": 18,
   "metadata": {},
   "outputs": [
    {
     "data": {
      "text/plain": [
       "undefined"
      ]
     },
     "execution_count": 18,
     "metadata": {},
     "output_type": "execute_result"
    }
   ],
   "source": [
    "interface ReadonlyStringArray {\n",
    "    readonly [index: number]: string\n",
    "}\n",
    "\n",
    "let myRSA: ReadonlyStringArray = ['Luke', 'Leia']"
   ]
  },
  {
   "cell_type": "markdown",
   "metadata": {},
   "source": [
    "## 类类型\n",
    "\n",
    "实现一个接口。特别是在类似 C# 和 Java 的语言中，接口的一个最常见作用就是明确一个类的形状。TypeScript 中也可以如此："
   ]
  },
  {
   "cell_type": "code",
   "execution_count": 19,
   "metadata": {},
   "outputs": [
    {
     "name": "stdout",
     "output_type": "stream",
     "text": [
      "Snoopy running 100\n"
     ]
    },
    {
     "data": {
      "text/plain": [
       "undefined"
      ]
     },
     "execution_count": 19,
     "metadata": {},
     "output_type": "execute_result"
    }
   ],
   "source": [
    "interface AnimalInterface {\n",
    "    name: string\n",
    "    run(distance): void\n",
    "}\n",
    "\n",
    "class Doggy implements AnimalInterface {\n",
    "    name: string\n",
    "    \n",
    "    constructor(name: string) {\n",
    "        this.name = name\n",
    "    }\n",
    "    \n",
    "    run(distance) {\n",
    "        console.log(`${this.name} running ${distance}`)\n",
    "    }\n",
    "}\n",
    "\n",
    "let dog = new Doggy('Snoopy')\n",
    "\n",
    "dog.run(100)"
   ]
  },
  {
   "cell_type": "markdown",
   "metadata": {},
   "source": [
    "#### 接口只检查类的实例属性。\n",
    "\n",
    "类有两方面的类型：静态类型与实例类型。静态类型是类本身的属性，如 contructor。所以下例将会报错"
   ]
  },
  {
   "cell_type": "code",
   "execution_count": 20,
   "metadata": {},
   "outputs": [
    {
     "ename": "Error",
     "evalue": "Line 5, Character 7\nclass CanI implements CantConstructor {\n______^\nTS2420: Class 'CanI' incorrectly implements interface 'CantConstructor'.\n  Type 'CanI' provides no match for the signature 'new (name: string): void'.",
     "output_type": "error",
     "traceback": [
      "Error: Line 5, Character 7",
      "class CanI implements CantConstructor {",
      "______^",
      "TS2420: Class 'CanI' incorrectly implements interface 'CantConstructor'.",
      "  Type 'CanI' provides no match for the signature 'new (name: string): void'.",
      "    at execTranspile (/Users/yan/.npm-global-packages/lib/node_modules/itypescript/lib/kernel.js:203:27)",
      "    at Session.transpiler [as transpile] (/Users/yan/.npm-global-packages/lib/node_modules/itypescript/lib/kernel.js:263:37)",
      "    at Session._runNow (/Users/yan/.npm-global-packages/lib/node_modules/itypescript/node_modules/nel/lib/nel.js:796:39)",
      "    at Session._runNext (/Users/yan/.npm-global-packages/lib/node_modules/itypescript/node_modules/nel/lib/nel.js:837:14)",
      "    at Session._onMessage (/Users/yan/.npm-global-packages/lib/node_modules/itypescript/node_modules/nel/lib/nel.js:753:14)",
      "    at ChildProcess.emit (events.js:182:13)",
      "    at emit (internal/child_process.js:812:12)",
      "    at process._tickCallback (internal/process/next_tick.js:63:19)"
     ]
    }
   ],
   "source": [
    "interface CantConstructor {\n",
    "    new (name: string): void\n",
    "}\n",
    "\n",
    "class CanI implements CantConstructor {\n",
    "    constructor(name: string) {}\n",
    "}"
   ]
  },
  {
   "cell_type": "markdown",
   "metadata": {},
   "source": [
    "相反，应该使用这个接口来描述类本身："
   ]
  },
  {
   "cell_type": "code",
   "execution_count": 21,
   "metadata": {},
   "outputs": [
    {
     "name": "stdout",
     "output_type": "stream",
     "text": [
      "i can run 100\n"
     ]
    },
    {
     "data": {
      "text/plain": [
       "undefined"
      ]
     },
     "execution_count": 21,
     "metadata": {},
     "output_type": "execute_result"
    }
   ],
   "source": [
    "interface CanConstructor {\n",
    "    new (name: string): void\n",
    "}\n",
    "\n",
    "interface CanInterface {\n",
    "    name: string\n",
    "    run(distance: number): void\n",
    "}\n",
    "\n",
    "class ICanClass implements CanInterface {\n",
    "    name: string\n",
    "    constructor(name: string) {\n",
    "        this.name = name\n",
    "    }\n",
    "    \n",
    "    run(distance: number) {\n",
    "        console.log(`${this.name} run ${distance}`)\n",
    "    }\n",
    "}\n",
    "\n",
    "let ICan: CanConstructor = ICanClass\n",
    "\n",
    "let ican: ICanClass = new ICanClass('i can')\n",
    "ican.run(100)"
   ]
  },
  {
   "cell_type": "markdown",
   "metadata": {},
   "source": [
    "## 接口扩展\n",
    "\n",
    "和 class 类似，接口也可以进行扩展。"
   ]
  },
  {
   "cell_type": "code",
   "execution_count": 22,
   "metadata": {},
   "outputs": [
    {
     "name": "stdout",
     "output_type": "stream",
     "text": [
      "{ color: 'black', radius: 200 }\n"
     ]
    },
    {
     "data": {
      "text/plain": [
       "undefined"
      ]
     },
     "execution_count": 22,
     "metadata": {},
     "output_type": "execute_result"
    }
   ],
   "source": [
    "interface Shape {\n",
    "    color: string\n",
    "}\n",
    "\n",
    "interface Circle extends Shape {\n",
    "    radius: number\n",
    "}\n",
    "\n",
    "let circle: Circle = {\n",
    "    color: 'white',\n",
    "    radius: 100,\n",
    "}\n",
    "\n",
    "// 这里可以使用类型断言：\n",
    "\n",
    "let circle2 = {} as Circle\n",
    "circle2.color = 'black'\n",
    "circle2.radius = 200\n",
    "console.log(circle2)"
   ]
  },
  {
   "cell_type": "markdown",
   "metadata": {},
   "source": [
    "#### 接口可以扩展多个接口"
   ]
  },
  {
   "cell_type": "code",
   "execution_count": 23,
   "metadata": {},
   "outputs": [
    {
     "name": "stdout",
     "output_type": "stream",
     "text": [
      "{ radius: 100, color: 'white', penWidth: 5 }\n"
     ]
    },
    {
     "data": {
      "text/plain": [
       "undefined"
      ]
     },
     "execution_count": 23,
     "metadata": {},
     "output_type": "execute_result"
    }
   ],
   "source": [
    "interface PenStroke {\n",
    "    penWidth: number\n",
    "}\n",
    "\n",
    "interface MyCircle extends Shape, PenStroke {\n",
    "    radius: number\n",
    "}\n",
    "\n",
    "let myCircle: MyCircle = {\n",
    "    radius: 100,\n",
    "    color: 'white',\n",
    "    penWidth: 5,\n",
    "}\n",
    "\n",
    "console.log(myCircle)"
   ]
  },
  {
   "cell_type": "markdown",
   "metadata": {},
   "source": [
    "#### 一个类也可以实现多个接口"
   ]
  },
  {
   "cell_type": "code",
   "execution_count": 24,
   "metadata": {},
   "outputs": [
    {
     "data": {
      "text/plain": [
       "undefined"
      ]
     },
     "execution_count": 24,
     "metadata": {},
     "output_type": "execute_result"
    }
   ],
   "source": [
    "class MC implements Circle, PenStroke {\n",
    "    color: 'white'\n",
    "    radius: number\n",
    "    penWidth: 5\n",
    "}"
   ]
  },
  {
   "cell_type": "markdown",
   "metadata": {},
   "source": [
    "## 混合类型\n",
    "\n",
    "因为 JavaScript 的动态特性，有时候一个对象会有几种类型。比如下例中的对象既是一个函数，又是对象。这时候就可能需要类型断言等手段来明确描述其类型。"
   ]
  },
  {
   "cell_type": "code",
   "execution_count": 25,
   "metadata": {},
   "outputs": [
    {
     "name": "stdout",
     "output_type": "stream",
     "text": [
      "{ [Function: counter] interval: 1, reset: [Function] }\n"
     ]
    },
    {
     "data": {
      "text/plain": [
       "undefined"
      ]
     },
     "execution_count": 25,
     "metadata": {},
     "output_type": "execute_result"
    }
   ],
   "source": [
    "interface Counter {\n",
    "    (start: number): string\n",
    "    interval: number\n",
    "    reset(): void\n",
    "}\n",
    "\n",
    "let counter = <Counter>function(start: number) {}\n",
    "counter.interval = 1\n",
    "counter.reset = function() {}\n",
    "\n",
    "console.log(counter)"
   ]
  },
  {
   "cell_type": "markdown",
   "metadata": {},
   "source": [
    "## 接口扩展类\n",
    "\n",
    "当一个接口扩展一个类，接口将继承类的属性，但是不继承类属性的实现。"
   ]
  },
  {
   "cell_type": "code",
   "execution_count": 26,
   "metadata": {},
   "outputs": [
    {
     "data": {
      "text/plain": [
       "undefined"
      ]
     },
     "execution_count": 26,
     "metadata": {},
     "output_type": "execute_result"
    }
   ],
   "source": [
    "class Control {\n",
    "    state: any\n",
    "}\n",
    "\n",
    "interface SelectableControl extends Control {\n",
    "    select(): void;\n",
    "}\n",
    "\n",
    "class Button implements SelectableControl {\n",
    "    state: any;\n",
    "    select() { }\n",
    "}\n",
    "\n",
    "let button: Button = new Button()\n",
    "button.select()"
   ]
  },
  {
   "cell_type": "code",
   "execution_count": null,
   "metadata": {},
   "outputs": [],
   "source": []
  }
 ],
 "metadata": {
  "kernelspec": {
   "display_name": "Typescript 3.4",
   "language": "typescript",
   "name": "typescript"
  },
  "language_info": {
   "file_extension": ".ts",
   "mimetype": "application/x-typescript",
   "name": "typescript",
   "version": "3.4.4"
  }
 },
 "nbformat": 4,
 "nbformat_minor": 2
}
