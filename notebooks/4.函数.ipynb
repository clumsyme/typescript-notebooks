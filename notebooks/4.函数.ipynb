{
 "cells": [
  {
   "cell_type": "markdown",
   "metadata": {},
   "source": [
    "# 函数\n",
    "\n",
    "函数的类型"
   ]
  },
  {
   "cell_type": "code",
   "execution_count": 1,
   "metadata": {},
   "outputs": [
    {
     "data": {
      "text/plain": [
       "[Function: myFunc]"
      ]
     },
     "execution_count": 1,
     "metadata": {},
     "output_type": "execute_result"
    }
   ],
   "source": [
    "let myFunc: (x: number, y: number) => number\n",
    "myFunc = function(x: number, y: number): number {\n",
    "    return x + y\n",
    "}\n",
    "\n",
    "// 可以利用 TypeScript 的自动类型推断省略等式右侧的类型声明：\n",
    "\n",
    "myFunc = function(x, y) {\n",
    "    return x + y\n",
    "}"
   ]
  },
  {
   "cell_type": "markdown",
   "metadata": {},
   "source": [
    "## 可选与默认参数\n",
    "\n",
    "与 JavaScript 将每个参数都视为可选的不同，TypeScript 默认将函数的每个参数都视为必须的。对于可选的参数，需要在参数后加上`?`。"
   ]
  },
  {
   "cell_type": "code",
   "execution_count": 2,
   "metadata": {},
   "outputs": [
    {
     "data": {
      "text/plain": [
       "'Luke Skywalker'"
      ]
     },
     "execution_count": 2,
     "metadata": {},
     "output_type": "execute_result"
    }
   ],
   "source": [
    "function buildName(firstName: string, lastName?: string) {\n",
    "    return firstName + ' ' + (lastName || '')\n",
    "}\n",
    "\n",
    "buildName('Luke')\n",
    "buildName('Luke', 'Skywalker')"
   ]
  },
  {
   "cell_type": "markdown",
   "metadata": {},
   "source": [
    "#### 可选参数必须跟在必须参数的后边"
   ]
  },
  {
   "cell_type": "code",
   "execution_count": 3,
   "metadata": {},
   "outputs": [
    {
     "ename": "Error",
     "evalue": "Line 1, Character 26\nfunction mul(x?: number, y: number): void {}\n_________________________^\nTS1016: A required parameter cannot follow an optional parameter.",
     "output_type": "error",
     "traceback": [
      "Error: Line 1, Character 26",
      "function mul(x?: number, y: number): void {}",
      "_________________________^",
      "TS1016: A required parameter cannot follow an optional parameter.",
      "    at execTranspile (/Users/yan/.npm-global-packages/lib/node_modules/itypescript/lib/kernel.js:203:27)",
      "    at Session.transpiler [as transpile] (/Users/yan/.npm-global-packages/lib/node_modules/itypescript/lib/kernel.js:263:37)",
      "    at Session._runNow (/Users/yan/.npm-global-packages/lib/node_modules/itypescript/node_modules/nel/lib/nel.js:796:39)",
      "    at Session._runNext (/Users/yan/.npm-global-packages/lib/node_modules/itypescript/node_modules/nel/lib/nel.js:837:14)",
      "    at Session._onMessage (/Users/yan/.npm-global-packages/lib/node_modules/itypescript/node_modules/nel/lib/nel.js:753:14)",
      "    at ChildProcess.emit (events.js:182:13)",
      "    at emit (internal/child_process.js:812:12)",
      "    at process._tickCallback (internal/process/next_tick.js:63:19)"
     ]
    }
   ],
   "source": [
    "function mul(x?: number, y: number): void {}"
   ]
  },
  {
   "cell_type": "markdown",
   "metadata": {},
   "source": [
    "#### 默认参数\n",
    "\n",
    "默认可以在定义的时候进行初始化，和可选参数行为一样，调用时不必传参。\n",
    "\n",
    "事实上，默认参数函数和可选参数函数的类型是相同的。"
   ]
  },
  {
   "cell_type": "code",
   "execution_count": 4,
   "metadata": {},
   "outputs": [
    {
     "data": {
      "text/plain": [
       "4"
      ]
     },
     "execution_count": 4,
     "metadata": {},
     "output_type": "execute_result"
    }
   ],
   "source": [
    "let func: (x: number, y?: number) => number\n",
    "\n",
    "func = function (x: number, y=2): number {\n",
    "    return x/y\n",
    "}\n",
    "\n",
    "func(8)"
   ]
  },
  {
   "cell_type": "markdown",
   "metadata": {},
   "source": [
    "默认参数也应该在必须参数的后边，但是放在前边也是可以的，这时候用户必须手动传入 undefined 来使用默认参数。"
   ]
  },
  {
   "cell_type": "code",
   "execution_count": 5,
   "metadata": {},
   "outputs": [
    {
     "data": {
      "text/plain": [
       "4"
      ]
     },
     "execution_count": 5,
     "metadata": {},
     "output_type": "execute_result"
    }
   ],
   "source": [
    "function divide(x=8, y:number): number {\n",
    "    return x / y\n",
    "}\n",
    "\n",
    "divide(undefined, 2)"
   ]
  },
  {
   "cell_type": "markdown",
   "metadata": {},
   "source": [
    "## 剩余参数"
   ]
  },
  {
   "cell_type": "code",
   "execution_count": 6,
   "metadata": {},
   "outputs": [
    {
     "data": {
      "text/plain": [
       "15"
      ]
     },
     "execution_count": 6,
     "metadata": {},
     "output_type": "execute_result"
    }
   ],
   "source": [
    "function addAll(x: number, ...rest: number[]): number {\n",
    "    return x + rest.reduce((a, b) =>  a+b, 0)\n",
    "}\n",
    "\n",
    "addAll(1,2,3,4,5)"
   ]
  },
  {
   "cell_type": "markdown",
   "metadata": {},
   "source": [
    "## 指定函数的 `this`\n",
    "\n",
    "JavaScript 的函数 this 通常不是明确的，我们可以给函数添加一个 this **伪参数**(类似 python 的 self)。"
   ]
  },
  {
   "cell_type": "code",
   "execution_count": 7,
   "metadata": {},
   "outputs": [
    {
     "name": "stdout",
     "output_type": "stream",
     "text": [
      "10\n"
     ]
    },
    {
     "data": {
      "text/plain": [
       "undefined"
      ]
     },
     "execution_count": 7,
     "metadata": {},
     "output_type": "execute_result"
    }
   ],
   "source": [
    "interface Point {\n",
    "    x: number\n",
    "    move: (distance: number) => void\n",
    "}\n",
    "\n",
    "// this 是伪参数，只是用来声明函数作用域内的 this 类型\n",
    "function move(this: Point, distance: number): void {\n",
    "    this.x += distance\n",
    "}\n",
    "\n",
    "let point: Point = {\n",
    "    x: 0,\n",
    "    move,\n",
    "}\n",
    "\n",
    "point.move(10)\n",
    "\n",
    "console.log(point.x)"
   ]
  },
  {
   "cell_type": "markdown",
   "metadata": {},
   "source": [
    "## 类型重载\n",
    "\n",
    "一个函数可能接收不同类型、数量的参数，返回不同类型的值。我们可以利用函数重载在对各种情况进行声明：\n",
    "\n",
    "#### 如果不用类型重载"
   ]
  },
  {
   "cell_type": "code",
   "execution_count": 8,
   "metadata": {},
   "outputs": [
    {
     "name": "stdout",
     "output_type": "stream",
     "text": [
      "3\n",
      "haloworld\n"
     ]
    },
    {
     "data": {
      "text/plain": [
       "undefined"
      ]
     },
     "execution_count": 8,
     "metadata": {},
     "output_type": "execute_result"
    }
   ],
   "source": [
    "function addSomething(x: any, y: any): any {\n",
    "    return x + y\n",
    "}\n",
    "\n",
    "console.log(addSomething(1, 2))\n",
    "console.log(addSomething('halo', 'world'))"
   ]
  },
  {
   "cell_type": "markdown",
   "metadata": {},
   "source": [
    "#### 利用类型重载"
   ]
  },
  {
   "cell_type": "code",
   "execution_count": 9,
   "metadata": {},
   "outputs": [
    {
     "name": "stdout",
     "output_type": "stream",
     "text": [
      "3\n",
      "haloworld\n"
     ]
    },
    {
     "data": {
      "text/plain": [
       "undefined"
      ]
     },
     "execution_count": 9,
     "metadata": {},
     "output_type": "execute_result"
    }
   ],
   "source": [
    "// 重载声明\n",
    "function addTheThing(x: number, y: number): number\n",
    "function addTheThing(x: string, y: string): string \n",
    "\n",
    "// 实现\n",
    "function addTheThing(x: any, y: any): any {\n",
    "    return x + y\n",
    "}\n",
    "\n",
    "console.log(addSomething(1, 2))\n",
    "console.log(addSomething('halo', 'world'))"
   ]
  }
 ],
 "metadata": {
  "kernelspec": {
   "display_name": "Typescript 3.4",
   "language": "typescript",
   "name": "typescript"
  },
  "language_info": {
   "file_extension": ".ts",
   "mimetype": "application/x-typescript",
   "name": "typescript",
   "version": "3.4.4"
  }
 },
 "nbformat": 4,
 "nbformat_minor": 2
}
